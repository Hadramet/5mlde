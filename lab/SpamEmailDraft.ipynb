{
 "cells": [
  {
   "attachments": {},
   "cell_type": "markdown",
   "metadata": {},
   "source": [
    "# 📨 Spam Email Classifier (SEC)\n"
   ]
  },
  {
   "cell_type": "code",
   "execution_count": 198,
   "metadata": {},
   "outputs": [],
   "source": [
    "import os\n",
    "import gdown\n",
    "import pandas as pd\n",
    "import matplotlib.pyplot as plt\n",
    "import seaborn as sns\n",
    "import nltk\n",
    "from textblob import Word\n",
    "from nltk.corpus import stopwords\n",
    "import argparse\n",
    "import mlflow\n",
    "import pickle\n",
    "\n",
    "from sklearn.feature_extraction.text import TfidfVectorizer\n",
    "from sklearn.model_selection import train_test_split\n",
    "from sklearn.naive_bayes import MultinomialNB\n",
    "from sklearn.metrics import confusion_matrix, classification_report,  mean_squared_error\n",
    "from prefect_great_expectations import run_checkpoint_validation\n",
    "from sklearn.metrics import accuracy_score, precision_score, recall_score, f1_score\n"
   ]
  },
  {
   "cell_type": "code",
   "execution_count": 2,
   "metadata": {},
   "outputs": [
    {
     "name": "stderr",
     "output_type": "stream",
     "text": [
      "[nltk_data] Downloading package stopwords to /home/jovyan/nltk_data...\n",
      "[nltk_data]   Unzipping corpora/stopwords.zip.\n",
      "[nltk_data] Downloading package wordnet to /home/jovyan/nltk_data...\n"
     ]
    },
    {
     "data": {
      "text/plain": [
       "True"
      ]
     },
     "execution_count": 2,
     "metadata": {},
     "output_type": "execute_result"
    }
   ],
   "source": [
    "\n",
    "nltk.download('stopwords')\n",
    "nltk.download('wordnet')"
   ]
  },
  {
   "attachments": {},
   "cell_type": "markdown",
   "metadata": {},
   "source": [
    "## Downloading the dataset"
   ]
  },
  {
   "cell_type": "code",
   "execution_count": 3,
   "metadata": {},
   "outputs": [
    {
     "data": {
      "text/plain": [
       "'/app/lab'"
      ]
     },
     "execution_count": 3,
     "metadata": {},
     "output_type": "execute_result"
    }
   ],
   "source": [
    "%pwd"
   ]
  },
  {
   "cell_type": "code",
   "execution_count": 4,
   "metadata": {},
   "outputs": [],
   "source": [
    "outpout_dir = 'data'\n",
    "os.makedirs(outpout_dir, exist_ok=True)\n",
    "\n"
   ]
  },
  {
   "cell_type": "code",
   "execution_count": 5,
   "metadata": {},
   "outputs": [
    {
     "name": "stderr",
     "output_type": "stream",
     "text": [
      "Downloading...\n",
      "From: https://drive.google.com/uc?id=1wtogytIpZC74Tq6s1GWaPWY3VBhmOrJy\n",
      "To: /app/lab/data/spam_emails_1.csv\n",
      "100%|██████████| 5.50M/5.50M [00:01<00:00, 4.45MB/s]\n"
     ]
    },
    {
     "data": {
      "text/plain": [
       "'data/spam_emails_1.csv'"
      ]
     },
     "execution_count": 5,
     "metadata": {},
     "output_type": "execute_result"
    }
   ],
   "source": [
    "url = \"https://drive.google.com/file/d/1wtogytIpZC74Tq6s1GWaPWY3VBhmOrJy/view?usp=sharing\"\n",
    "output = \"data/spam_emails_1.csv\"\n",
    "\n",
    "gdown.download(url, output, quiet=False , fuzzy=True)"
   ]
  },
  {
   "cell_type": "code",
   "execution_count": 6,
   "metadata": {},
   "outputs": [
    {
     "name": "stdout",
     "output_type": "stream",
     "text": [
      "Note: you may need to restart the kernel to use updated packages.\n"
     ]
    }
   ],
   "source": [
    "%pip list | grep greate-expectations"
   ]
  },
  {
   "cell_type": "code",
   "execution_count": 7,
   "metadata": {},
   "outputs": [],
   "source": [
    "from ruamel.yaml import YAML\n",
    "import great_expectations as gx\n",
    "from pprint import pprint\n",
    "\n",
    "yaml = YAML()\n",
    "context = gx.get_context()"
   ]
  },
  {
   "cell_type": "code",
   "execution_count": 8,
   "metadata": {},
   "outputs": [
    {
     "data": {
      "text/plain": [
       "['spam_emails_1.csv.warning']"
      ]
     },
     "execution_count": 8,
     "metadata": {},
     "output_type": "execute_result"
    }
   ],
   "source": [
    "context.list_expectation_suite_names()"
   ]
  },
  {
   "cell_type": "code",
   "execution_count": 10,
   "metadata": {},
   "outputs": [],
   "source": [
    "#context.run_checkpoint(\"lab_checkpoint\")\n",
    "#context.open_data_docs()"
   ]
  },
  {
   "attachments": {},
   "cell_type": "markdown",
   "metadata": {},
   "source": [
    "## Data Exploration\n",
    "In this section, we will explore the dataset to get a better understanding of the data."
   ]
  },
  {
   "cell_type": "code",
   "execution_count": 99,
   "metadata": {},
   "outputs": [
    {
     "data": {
      "text/html": [
       "<div>\n",
       "<style scoped>\n",
       "    .dataframe tbody tr th:only-of-type {\n",
       "        vertical-align: middle;\n",
       "    }\n",
       "\n",
       "    .dataframe tbody tr th {\n",
       "        vertical-align: top;\n",
       "    }\n",
       "\n",
       "    .dataframe thead th {\n",
       "        text-align: right;\n",
       "    }\n",
       "</style>\n",
       "<table border=\"1\" class=\"dataframe\">\n",
       "  <thead>\n",
       "    <tr style=\"text-align: right;\">\n",
       "      <th></th>\n",
       "      <th>Unnamed: 0</th>\n",
       "      <th>label</th>\n",
       "      <th>text</th>\n",
       "      <th>label_num</th>\n",
       "    </tr>\n",
       "  </thead>\n",
       "  <tbody>\n",
       "    <tr>\n",
       "      <th>0</th>\n",
       "      <td>605</td>\n",
       "      <td>ham</td>\n",
       "      <td>Subject: enron methanol ; meter # : 988291\\r\\n...</td>\n",
       "      <td>0</td>\n",
       "    </tr>\n",
       "    <tr>\n",
       "      <th>1</th>\n",
       "      <td>2349</td>\n",
       "      <td>ham</td>\n",
       "      <td>Subject: hpl nom for january 9 , 2001\\r\\n( see...</td>\n",
       "      <td>0</td>\n",
       "    </tr>\n",
       "    <tr>\n",
       "      <th>2</th>\n",
       "      <td>3624</td>\n",
       "      <td>ham</td>\n",
       "      <td>Subject: neon retreat\\r\\nho ho ho , we ' re ar...</td>\n",
       "      <td>0</td>\n",
       "    </tr>\n",
       "    <tr>\n",
       "      <th>3</th>\n",
       "      <td>4685</td>\n",
       "      <td>spam</td>\n",
       "      <td>Subject: photoshop , windows , office . cheap ...</td>\n",
       "      <td>1</td>\n",
       "    </tr>\n",
       "    <tr>\n",
       "      <th>4</th>\n",
       "      <td>2030</td>\n",
       "      <td>ham</td>\n",
       "      <td>Subject: re : indian springs\\r\\nthis deal is t...</td>\n",
       "      <td>0</td>\n",
       "    </tr>\n",
       "  </tbody>\n",
       "</table>\n",
       "</div>"
      ],
      "text/plain": [
       "   Unnamed: 0 label                                               text  \\\n",
       "0         605   ham  Subject: enron methanol ; meter # : 988291\\r\\n...   \n",
       "1        2349   ham  Subject: hpl nom for january 9 , 2001\\r\\n( see...   \n",
       "2        3624   ham  Subject: neon retreat\\r\\nho ho ho , we ' re ar...   \n",
       "3        4685  spam  Subject: photoshop , windows , office . cheap ...   \n",
       "4        2030   ham  Subject: re : indian springs\\r\\nthis deal is t...   \n",
       "\n",
       "   label_num  \n",
       "0          0  \n",
       "1          0  \n",
       "2          0  \n",
       "3          1  \n",
       "4          0  "
      ]
     },
     "execution_count": 99,
     "metadata": {},
     "output_type": "execute_result"
    }
   ],
   "source": [
    "\n",
    "df = pd.read_csv(output)\n",
    "df.head()"
   ]
  },
  {
   "cell_type": "code",
   "execution_count": 100,
   "metadata": {},
   "outputs": [
    {
     "name": "stdout",
     "output_type": "stream",
     "text": [
      "<class 'pandas.core.frame.DataFrame'>\n",
      "RangeIndex: 5171 entries, 0 to 5170\n",
      "Data columns (total 4 columns):\n",
      " #   Column      Non-Null Count  Dtype \n",
      "---  ------      --------------  ----- \n",
      " 0   Unnamed: 0  5171 non-null   int64 \n",
      " 1   label       5171 non-null   object\n",
      " 2   text        5171 non-null   object\n",
      " 3   label_num   5171 non-null   int64 \n",
      "dtypes: int64(2), object(2)\n",
      "memory usage: 161.7+ KB\n"
     ]
    }
   ],
   "source": [
    "df.info()"
   ]
  },
  {
   "attachments": {},
   "cell_type": "markdown",
   "metadata": {},
   "source": [
    "The dataset contains 5, 171 emails. Each email has the following attributes:\n",
    "\n",
    "- `text`: The text of the email\n",
    "- `label`: The label of the email. `1` means the email is spam, `0` means the email is not spam."
   ]
  },
  {
   "attachments": {},
   "cell_type": "markdown",
   "metadata": {},
   "source": [
    "### Cleaning the data"
   ]
  },
  {
   "cell_type": "code",
   "execution_count": 101,
   "metadata": {},
   "outputs": [
    {
     "data": {
      "text/html": [
       "<div>\n",
       "<style scoped>\n",
       "    .dataframe tbody tr th:only-of-type {\n",
       "        vertical-align: middle;\n",
       "    }\n",
       "\n",
       "    .dataframe tbody tr th {\n",
       "        vertical-align: top;\n",
       "    }\n",
       "\n",
       "    .dataframe thead th {\n",
       "        text-align: right;\n",
       "    }\n",
       "</style>\n",
       "<table border=\"1\" class=\"dataframe\">\n",
       "  <thead>\n",
       "    <tr style=\"text-align: right;\">\n",
       "      <th></th>\n",
       "      <th>label</th>\n",
       "      <th>text</th>\n",
       "    </tr>\n",
       "  </thead>\n",
       "  <tbody>\n",
       "    <tr>\n",
       "      <th>0</th>\n",
       "      <td>ham</td>\n",
       "      <td>Subject: enron methanol ; meter # : 988291\\r\\n...</td>\n",
       "    </tr>\n",
       "    <tr>\n",
       "      <th>1</th>\n",
       "      <td>ham</td>\n",
       "      <td>Subject: hpl nom for january 9 , 2001\\r\\n( see...</td>\n",
       "    </tr>\n",
       "    <tr>\n",
       "      <th>2</th>\n",
       "      <td>ham</td>\n",
       "      <td>Subject: neon retreat\\r\\nho ho ho , we ' re ar...</td>\n",
       "    </tr>\n",
       "    <tr>\n",
       "      <th>3</th>\n",
       "      <td>spam</td>\n",
       "      <td>Subject: photoshop , windows , office . cheap ...</td>\n",
       "    </tr>\n",
       "    <tr>\n",
       "      <th>4</th>\n",
       "      <td>ham</td>\n",
       "      <td>Subject: re : indian springs\\r\\nthis deal is t...</td>\n",
       "    </tr>\n",
       "  </tbody>\n",
       "</table>\n",
       "</div>"
      ],
      "text/plain": [
       "  label                                               text\n",
       "0   ham  Subject: enron methanol ; meter # : 988291\\r\\n...\n",
       "1   ham  Subject: hpl nom for january 9 , 2001\\r\\n( see...\n",
       "2   ham  Subject: neon retreat\\r\\nho ho ho , we ' re ar...\n",
       "3  spam  Subject: photoshop , windows , office . cheap ...\n",
       "4   ham  Subject: re : indian springs\\r\\nthis deal is t..."
      ]
     },
     "execution_count": 101,
     "metadata": {},
     "output_type": "execute_result"
    }
   ],
   "source": [
    "df.drop('Unnamed: 0', axis=1, inplace=True)\n",
    "df.drop('label_num', axis=1, inplace=True)\n",
    "df.head()"
   ]
  },
  {
   "cell_type": "code",
   "execution_count": 102,
   "metadata": {},
   "outputs": [
    {
     "data": {
      "text/html": [
       "<div>\n",
       "<style scoped>\n",
       "    .dataframe tbody tr th:only-of-type {\n",
       "        vertical-align: middle;\n",
       "    }\n",
       "\n",
       "    .dataframe tbody tr th {\n",
       "        vertical-align: top;\n",
       "    }\n",
       "\n",
       "    .dataframe thead th {\n",
       "        text-align: right;\n",
       "    }\n",
       "</style>\n",
       "<table border=\"1\" class=\"dataframe\">\n",
       "  <thead>\n",
       "    <tr style=\"text-align: right;\">\n",
       "      <th></th>\n",
       "      <th>label</th>\n",
       "      <th>text</th>\n",
       "    </tr>\n",
       "  </thead>\n",
       "  <tbody>\n",
       "    <tr>\n",
       "      <th>0</th>\n",
       "      <td>ham</td>\n",
       "      <td>Subject: enron methanol ; meter # : 988291\\r\\n...</td>\n",
       "    </tr>\n",
       "    <tr>\n",
       "      <th>1</th>\n",
       "      <td>ham</td>\n",
       "      <td>Subject: hpl nom for january 9 , 2001\\r\\n( see...</td>\n",
       "    </tr>\n",
       "    <tr>\n",
       "      <th>2</th>\n",
       "      <td>ham</td>\n",
       "      <td>Subject: neon retreat\\r\\nho ho ho , we ' re ar...</td>\n",
       "    </tr>\n",
       "    <tr>\n",
       "      <th>3</th>\n",
       "      <td>spam</td>\n",
       "      <td>Subject: photoshop , windows , office . cheap ...</td>\n",
       "    </tr>\n",
       "    <tr>\n",
       "      <th>4</th>\n",
       "      <td>ham</td>\n",
       "      <td>Subject: re : indian springs\\r\\nthis deal is t...</td>\n",
       "    </tr>\n",
       "  </tbody>\n",
       "</table>\n",
       "</div>"
      ],
      "text/plain": [
       "  label                                               text\n",
       "0   ham  Subject: enron methanol ; meter # : 988291\\r\\n...\n",
       "1   ham  Subject: hpl nom for january 9 , 2001\\r\\n( see...\n",
       "2   ham  Subject: neon retreat\\r\\nho ho ho , we ' re ar...\n",
       "3  spam  Subject: photoshop , windows , office . cheap ...\n",
       "4   ham  Subject: re : indian springs\\r\\nthis deal is t..."
      ]
     },
     "execution_count": 102,
     "metadata": {},
     "output_type": "execute_result"
    }
   ],
   "source": [
    "df.head()"
   ]
  },
  {
   "cell_type": "code",
   "execution_count": 103,
   "metadata": {},
   "outputs": [
    {
     "data": {
      "text/plain": [
       "ham     3672\n",
       "spam    1499\n",
       "Name: label, dtype: int64"
      ]
     },
     "execution_count": 103,
     "metadata": {},
     "output_type": "execute_result"
    }
   ],
   "source": [
    "df['label'].value_counts()"
   ]
  },
  {
   "cell_type": "code",
   "execution_count": 104,
   "metadata": {},
   "outputs": [
    {
     "data": {
      "text/plain": [
       "<Axes: title={'center': 'Count (label)'}>"
      ]
     },
     "execution_count": 104,
     "metadata": {},
     "output_type": "execute_result"
    },
    {
     "data": {
      "image/png": "[encoded data removed]",
      "text/plain": [
       "<Figure size 640x480 with 1 Axes>"
      ]
     },
     "metadata": {},
     "output_type": "display_data"
    }
   ],
   "source": [
    "df['label'].value_counts().plot(kind='bar', title='Count (label)')\n"
   ]
  },
  {
   "attachments": {},
   "cell_type": "markdown",
   "metadata": {},
   "source": [
    "`NOTE`: The distribution of the labels is not balanced. There are 3672 non-spam emails and 1499 spam emails."
   ]
  },
  {
   "attachments": {},
   "cell_type": "markdown",
   "metadata": {},
   "source": [
    "## Preprocessing\n",
    "In this section, we will preprocess the data to make it ready for training.\n",
    "\n",
    "We will perform the following preprocessing steps:\n",
    "- Remove punctuation\n",
    "- Convert the text to lowercase\n",
    "- Remove stopwords\n",
    "- Remove common words\n",
    "- Remove rare words\n",
    "- lemmatize the text"
   ]
  },
  {
   "cell_type": "code",
   "execution_count": 105,
   "metadata": {},
   "outputs": [
    {
     "data": {
      "text/html": [
       "<pre style=\"white-space:pre;overflow-x:auto;line-height:normal;font-family:Menlo,'DejaVu Sans Mono',consolas,'Courier New',monospace\">00:47:26.083 | <span style=\"color: #d7d700; text-decoration-color: #d7d700\">WARNING</span> | py.warnings - &lt;&gt;:2: DeprecationWarning: invalid escape sequence '\\w'\n",
       "\n",
       "</pre>\n"
      ],
      "text/plain": [
       "00:47:26.083 | \u001b[38;5;184mWARNING\u001b[0m | py.warnings - <>:2: DeprecationWarning: invalid escape sequence '\\w'\n",
       "\n"
      ]
     },
     "metadata": {},
     "output_type": "display_data"
    },
    {
     "data": {
      "text/html": [
       "<pre style=\"white-space:pre;overflow-x:auto;line-height:normal;font-family:Menlo,'DejaVu Sans Mono',consolas,'Courier New',monospace\">00:47:26.086 | <span style=\"color: #d7d700; text-decoration-color: #d7d700\">WARNING</span> | py.warnings - &lt;&gt;:2: DeprecationWarning: invalid escape sequence '\\w'\n",
       "\n",
       "</pre>\n"
      ],
      "text/plain": [
       "00:47:26.086 | \u001b[38;5;184mWARNING\u001b[0m | py.warnings - <>:2: DeprecationWarning: invalid escape sequence '\\w'\n",
       "\n"
      ]
     },
     "metadata": {},
     "output_type": "display_data"
    },
    {
     "data": {
      "text/html": [
       "<pre style=\"white-space:pre;overflow-x:auto;line-height:normal;font-family:Menlo,'DejaVu Sans Mono',consolas,'Courier New',monospace\">00:47:26.090 | <span style=\"color: #d7d700; text-decoration-color: #d7d700\">WARNING</span> | py.warnings - /tmp/ipykernel_1100/2903461620.py:2: DeprecationWarning: invalid escape sequence '\\w'\n",
       "  df['text'] = df['text'].str.replace('[^\\w\\s]','')\n",
       "\n",
       "</pre>\n"
      ],
      "text/plain": [
       "00:47:26.090 | \u001b[38;5;184mWARNING\u001b[0m | py.warnings - /tmp/ipykernel_1100/2903461620.py:2: DeprecationWarning: invalid escape sequence '\\w'\n",
       "  df['text'] = df['text'].str.replace('[^\\w\\s]','')\n",
       "\n"
      ]
     },
     "metadata": {},
     "output_type": "display_data"
    },
    {
     "data": {
      "text/html": [
       "<pre style=\"white-space:pre;overflow-x:auto;line-height:normal;font-family:Menlo,'DejaVu Sans Mono',consolas,'Courier New',monospace\">00:47:26.096 | <span style=\"color: #d7d700; text-decoration-color: #d7d700\">WARNING</span> | py.warnings - /tmp/ipykernel_1100/2903461620.py:2: FutureWarning: The default value of regex will change from True to False in a future version.\n",
       "  df['text'] = df['text'].str.replace('[^\\w\\s]','')\n",
       "\n",
       "</pre>\n"
      ],
      "text/plain": [
       "00:47:26.096 | \u001b[38;5;184mWARNING\u001b[0m | py.warnings - /tmp/ipykernel_1100/2903461620.py:2: FutureWarning: The default value of regex will change from True to False in a future version.\n",
       "  df['text'] = df['text'].str.replace('[^\\w\\s]','')\n",
       "\n"
      ]
     },
     "metadata": {},
     "output_type": "display_data"
    },
    {
     "data": {
      "text/html": [
       "<div>\n",
       "<style scoped>\n",
       "    .dataframe tbody tr th:only-of-type {\n",
       "        vertical-align: middle;\n",
       "    }\n",
       "\n",
       "    .dataframe tbody tr th {\n",
       "        vertical-align: top;\n",
       "    }\n",
       "\n",
       "    .dataframe thead th {\n",
       "        text-align: right;\n",
       "    }\n",
       "</style>\n",
       "<table border=\"1\" class=\"dataframe\">\n",
       "  <thead>\n",
       "    <tr style=\"text-align: right;\">\n",
       "      <th></th>\n",
       "      <th>label</th>\n",
       "      <th>text</th>\n",
       "    </tr>\n",
       "  </thead>\n",
       "  <tbody>\n",
       "    <tr>\n",
       "      <th>0</th>\n",
       "      <td>ham</td>\n",
       "      <td>Subject enron methanol  meter   988291\\r\\nthis...</td>\n",
       "    </tr>\n",
       "    <tr>\n",
       "      <th>1</th>\n",
       "      <td>ham</td>\n",
       "      <td>Subject hpl nom for january 9  2001\\r\\n see at...</td>\n",
       "    </tr>\n",
       "    <tr>\n",
       "      <th>2</th>\n",
       "      <td>ham</td>\n",
       "      <td>Subject neon retreat\\r\\nho ho ho  we  re aroun...</td>\n",
       "    </tr>\n",
       "    <tr>\n",
       "      <th>3</th>\n",
       "      <td>spam</td>\n",
       "      <td>Subject photoshop  windows  office  cheap  mai...</td>\n",
       "    </tr>\n",
       "    <tr>\n",
       "      <th>4</th>\n",
       "      <td>ham</td>\n",
       "      <td>Subject re  indian springs\\r\\nthis deal is to ...</td>\n",
       "    </tr>\n",
       "  </tbody>\n",
       "</table>\n",
       "</div>"
      ],
      "text/plain": [
       "  label                                               text\n",
       "0   ham  Subject enron methanol  meter   988291\\r\\nthis...\n",
       "1   ham  Subject hpl nom for january 9  2001\\r\\n see at...\n",
       "2   ham  Subject neon retreat\\r\\nho ho ho  we  re aroun...\n",
       "3  spam  Subject photoshop  windows  office  cheap  mai...\n",
       "4   ham  Subject re  indian springs\\r\\nthis deal is to ..."
      ]
     },
     "execution_count": 105,
     "metadata": {},
     "output_type": "execute_result"
    }
   ],
   "source": [
    "# remove punctuation\n",
    "df['text'] = df['text'].str.replace('[^\\w\\s]','')\n",
    "df.head()"
   ]
  },
  {
   "cell_type": "code",
   "execution_count": 106,
   "metadata": {},
   "outputs": [
    {
     "data": {
      "text/html": [
       "<div>\n",
       "<style scoped>\n",
       "    .dataframe tbody tr th:only-of-type {\n",
       "        vertical-align: middle;\n",
       "    }\n",
       "\n",
       "    .dataframe tbody tr th {\n",
       "        vertical-align: top;\n",
       "    }\n",
       "\n",
       "    .dataframe thead th {\n",
       "        text-align: right;\n",
       "    }\n",
       "</style>\n",
       "<table border=\"1\" class=\"dataframe\">\n",
       "  <thead>\n",
       "    <tr style=\"text-align: right;\">\n",
       "      <th></th>\n",
       "      <th>label</th>\n",
       "      <th>text</th>\n",
       "    </tr>\n",
       "  </thead>\n",
       "  <tbody>\n",
       "    <tr>\n",
       "      <th>0</th>\n",
       "      <td>ham</td>\n",
       "      <td>subject enron methanol  meter   988291\\r\\nthis...</td>\n",
       "    </tr>\n",
       "    <tr>\n",
       "      <th>1</th>\n",
       "      <td>ham</td>\n",
       "      <td>subject hpl nom for january 9  2001\\r\\n see at...</td>\n",
       "    </tr>\n",
       "    <tr>\n",
       "      <th>2</th>\n",
       "      <td>ham</td>\n",
       "      <td>subject neon retreat\\r\\nho ho ho  we  re aroun...</td>\n",
       "    </tr>\n",
       "    <tr>\n",
       "      <th>3</th>\n",
       "      <td>spam</td>\n",
       "      <td>subject photoshop  windows  office  cheap  mai...</td>\n",
       "    </tr>\n",
       "    <tr>\n",
       "      <th>4</th>\n",
       "      <td>ham</td>\n",
       "      <td>subject re  indian springs\\r\\nthis deal is to ...</td>\n",
       "    </tr>\n",
       "  </tbody>\n",
       "</table>\n",
       "</div>"
      ],
      "text/plain": [
       "  label                                               text\n",
       "0   ham  subject enron methanol  meter   988291\\r\\nthis...\n",
       "1   ham  subject hpl nom for january 9  2001\\r\\n see at...\n",
       "2   ham  subject neon retreat\\r\\nho ho ho  we  re aroun...\n",
       "3  spam  subject photoshop  windows  office  cheap  mai...\n",
       "4   ham  subject re  indian springs\\r\\nthis deal is to ..."
      ]
     },
     "execution_count": 106,
     "metadata": {},
     "output_type": "execute_result"
    }
   ],
   "source": [
    "# convert to lowercase\n",
    "df['text'] = df['text'].str.lower()\n",
    "df.head()"
   ]
  },
  {
   "cell_type": "code",
   "execution_count": 107,
   "metadata": {},
   "outputs": [
    {
     "data": {
      "text/html": [
       "<div>\n",
       "<style scoped>\n",
       "    .dataframe tbody tr th:only-of-type {\n",
       "        vertical-align: middle;\n",
       "    }\n",
       "\n",
       "    .dataframe tbody tr th {\n",
       "        vertical-align: top;\n",
       "    }\n",
       "\n",
       "    .dataframe thead th {\n",
       "        text-align: right;\n",
       "    }\n",
       "</style>\n",
       "<table border=\"1\" class=\"dataframe\">\n",
       "  <thead>\n",
       "    <tr style=\"text-align: right;\">\n",
       "      <th></th>\n",
       "      <th>label</th>\n",
       "      <th>text</th>\n",
       "    </tr>\n",
       "  </thead>\n",
       "  <tbody>\n",
       "    <tr>\n",
       "      <th>0</th>\n",
       "      <td>ham</td>\n",
       "      <td>subject enron methanol meter 988291 follow not...</td>\n",
       "    </tr>\n",
       "    <tr>\n",
       "      <th>1</th>\n",
       "      <td>ham</td>\n",
       "      <td>subject hpl nom january 9 2001 see attached fi...</td>\n",
       "    </tr>\n",
       "    <tr>\n",
       "      <th>2</th>\n",
       "      <td>ham</td>\n",
       "      <td>subject neon retreat ho ho ho around wonderful...</td>\n",
       "    </tr>\n",
       "    <tr>\n",
       "      <th>3</th>\n",
       "      <td>spam</td>\n",
       "      <td>subject photoshop windows office cheap main tr...</td>\n",
       "    </tr>\n",
       "    <tr>\n",
       "      <th>4</th>\n",
       "      <td>ham</td>\n",
       "      <td>subject indian springs deal book teco pvr reve...</td>\n",
       "    </tr>\n",
       "  </tbody>\n",
       "</table>\n",
       "</div>"
      ],
      "text/plain": [
       "  label                                               text\n",
       "0   ham  subject enron methanol meter 988291 follow not...\n",
       "1   ham  subject hpl nom january 9 2001 see attached fi...\n",
       "2   ham  subject neon retreat ho ho ho around wonderful...\n",
       "3  spam  subject photoshop windows office cheap main tr...\n",
       "4   ham  subject indian springs deal book teco pvr reve..."
      ]
     },
     "execution_count": 107,
     "metadata": {},
     "output_type": "execute_result"
    }
   ],
   "source": [
    "# remove stopwords\n",
    "stop = stopwords.words('english')\n",
    "df['text'] = df['text'].apply(lambda x: \" \".join(x for x in x.split() if x not in stop))\n",
    "df.head()"
   ]
  },
  {
   "cell_type": "code",
   "execution_count": 108,
   "metadata": {},
   "outputs": [
    {
     "data": {
      "text/html": [
       "<div>\n",
       "<style scoped>\n",
       "    .dataframe tbody tr th:only-of-type {\n",
       "        vertical-align: middle;\n",
       "    }\n",
       "\n",
       "    .dataframe tbody tr th {\n",
       "        vertical-align: top;\n",
       "    }\n",
       "\n",
       "    .dataframe thead th {\n",
       "        text-align: right;\n",
       "    }\n",
       "</style>\n",
       "<table border=\"1\" class=\"dataframe\">\n",
       "  <thead>\n",
       "    <tr style=\"text-align: right;\">\n",
       "      <th></th>\n",
       "      <th>label</th>\n",
       "      <th>text</th>\n",
       "    </tr>\n",
       "  </thead>\n",
       "  <tbody>\n",
       "    <tr>\n",
       "      <th>0</th>\n",
       "      <td>ham</td>\n",
       "      <td>methanol meter 988291 follow note gave monday ...</td>\n",
       "    </tr>\n",
       "    <tr>\n",
       "      <th>1</th>\n",
       "      <td>ham</td>\n",
       "      <td>hpl nom january 9 2001 see attached file hplno...</td>\n",
       "    </tr>\n",
       "    <tr>\n",
       "      <th>2</th>\n",
       "      <td>ham</td>\n",
       "      <td>neon retreat ho ho ho around wonderful time ye...</td>\n",
       "    </tr>\n",
       "    <tr>\n",
       "      <th>3</th>\n",
       "      <td>spam</td>\n",
       "      <td>photoshop windows office cheap main trending a...</td>\n",
       "    </tr>\n",
       "    <tr>\n",
       "      <th>4</th>\n",
       "      <td>ham</td>\n",
       "      <td>indian springs deal book teco pvr revenue unde...</td>\n",
       "    </tr>\n",
       "  </tbody>\n",
       "</table>\n",
       "</div>"
      ],
      "text/plain": [
       "  label                                               text\n",
       "0   ham  methanol meter 988291 follow note gave monday ...\n",
       "1   ham  hpl nom january 9 2001 see attached file hplno...\n",
       "2   ham  neon retreat ho ho ho around wonderful time ye...\n",
       "3  spam  photoshop windows office cheap main trending a...\n",
       "4   ham  indian springs deal book teco pvr revenue unde..."
      ]
     },
     "execution_count": 108,
     "metadata": {},
     "output_type": "execute_result"
    }
   ],
   "source": [
    "# remove common words\n",
    "freq = pd.Series(' '.join(df['text']).split()).value_counts()[:10]\n",
    "freq = list(freq.index)\n",
    "df['text'] = df['text'].apply(lambda x: \" \".join(x for x in x.split() if x not in freq))\n",
    "df.head()"
   ]
  },
  {
   "cell_type": "code",
   "execution_count": 109,
   "metadata": {},
   "outputs": [
    {
     "data": {
      "text/html": [
       "<div>\n",
       "<style scoped>\n",
       "    .dataframe tbody tr th:only-of-type {\n",
       "        vertical-align: middle;\n",
       "    }\n",
       "\n",
       "    .dataframe tbody tr th {\n",
       "        vertical-align: top;\n",
       "    }\n",
       "\n",
       "    .dataframe thead th {\n",
       "        text-align: right;\n",
       "    }\n",
       "</style>\n",
       "<table border=\"1\" class=\"dataframe\">\n",
       "  <thead>\n",
       "    <tr style=\"text-align: right;\">\n",
       "      <th></th>\n",
       "      <th>label</th>\n",
       "      <th>text</th>\n",
       "    </tr>\n",
       "  </thead>\n",
       "  <tbody>\n",
       "    <tr>\n",
       "      <th>0</th>\n",
       "      <td>ham</td>\n",
       "      <td>methanol meter 988291 follow note gave monday ...</td>\n",
       "    </tr>\n",
       "    <tr>\n",
       "      <th>1</th>\n",
       "      <td>ham</td>\n",
       "      <td>hpl nom january 9 2001 see attached file hplno...</td>\n",
       "    </tr>\n",
       "    <tr>\n",
       "      <th>2</th>\n",
       "      <td>ham</td>\n",
       "      <td>neon retreat ho ho ho around wonderful time ye...</td>\n",
       "    </tr>\n",
       "    <tr>\n",
       "      <th>3</th>\n",
       "      <td>spam</td>\n",
       "      <td>photoshop windows office cheap main trending a...</td>\n",
       "    </tr>\n",
       "    <tr>\n",
       "      <th>4</th>\n",
       "      <td>ham</td>\n",
       "      <td>indian springs deal book teco pvr revenue unde...</td>\n",
       "    </tr>\n",
       "  </tbody>\n",
       "</table>\n",
       "</div>"
      ],
      "text/plain": [
       "  label                                               text\n",
       "0   ham  methanol meter 988291 follow note gave monday ...\n",
       "1   ham  hpl nom january 9 2001 see attached file hplno...\n",
       "2   ham  neon retreat ho ho ho around wonderful time ye...\n",
       "3  spam  photoshop windows office cheap main trending a...\n",
       "4   ham  indian springs deal book teco pvr revenue unde..."
      ]
     },
     "execution_count": 109,
     "metadata": {},
     "output_type": "execute_result"
    }
   ],
   "source": [
    "# remove rare words\n",
    "freq = pd.Series(' '.join(df['text']).split()).value_counts()[-10:]\n",
    "freq = list(freq.index)\n",
    "df['text'] = df['text'].apply(lambda x: \" \".join(x for x in x.split() if x not in freq))\n",
    "df.head()"
   ]
  },
  {
   "cell_type": "code",
   "execution_count": 110,
   "metadata": {},
   "outputs": [
    {
     "data": {
      "text/html": [
       "<div>\n",
       "<style scoped>\n",
       "    .dataframe tbody tr th:only-of-type {\n",
       "        vertical-align: middle;\n",
       "    }\n",
       "\n",
       "    .dataframe tbody tr th {\n",
       "        vertical-align: top;\n",
       "    }\n",
       "\n",
       "    .dataframe thead th {\n",
       "        text-align: right;\n",
       "    }\n",
       "</style>\n",
       "<table border=\"1\" class=\"dataframe\">\n",
       "  <thead>\n",
       "    <tr style=\"text-align: right;\">\n",
       "      <th></th>\n",
       "      <th>label</th>\n",
       "      <th>text</th>\n",
       "    </tr>\n",
       "  </thead>\n",
       "  <tbody>\n",
       "    <tr>\n",
       "      <th>0</th>\n",
       "      <td>ham</td>\n",
       "      <td>methanol meter 988291 follow note gave monday ...</td>\n",
       "    </tr>\n",
       "    <tr>\n",
       "      <th>1</th>\n",
       "      <td>ham</td>\n",
       "      <td>hpl nom january 9 2001 see attached file hplno...</td>\n",
       "    </tr>\n",
       "    <tr>\n",
       "      <th>2</th>\n",
       "      <td>ham</td>\n",
       "      <td>neon retreat ho ho ho around wonderful time ye...</td>\n",
       "    </tr>\n",
       "    <tr>\n",
       "      <th>3</th>\n",
       "      <td>spam</td>\n",
       "      <td>photoshop window office cheap main trending ab...</td>\n",
       "    </tr>\n",
       "    <tr>\n",
       "      <th>4</th>\n",
       "      <td>ham</td>\n",
       "      <td>indian spring deal book teco pvr revenue under...</td>\n",
       "    </tr>\n",
       "  </tbody>\n",
       "</table>\n",
       "</div>"
      ],
      "text/plain": [
       "  label                                               text\n",
       "0   ham  methanol meter 988291 follow note gave monday ...\n",
       "1   ham  hpl nom january 9 2001 see attached file hplno...\n",
       "2   ham  neon retreat ho ho ho around wonderful time ye...\n",
       "3  spam  photoshop window office cheap main trending ab...\n",
       "4   ham  indian spring deal book teco pvr revenue under..."
      ]
     },
     "execution_count": 110,
     "metadata": {},
     "output_type": "execute_result"
    }
   ],
   "source": [
    "# lemmatization\n",
    "df['text'] = df['text'].apply(lambda x: \" \".join([Word(word).lemmatize() for word in x.split()]))\n",
    "df.head()\n"
   ]
  },
  {
   "cell_type": "code",
   "execution_count": 111,
   "metadata": {},
   "outputs": [
    {
     "data": {
      "text/plain": [
       "'methanol meter 988291 follow note gave monday 4 00 preliminary flow data provided daren override pop daily volume presently zero reflect daily activity obtain control change needed asap economics purpose'"
      ]
     },
     "execution_count": 111,
     "metadata": {},
     "output_type": "execute_result"
    }
   ],
   "source": [
    "# show the first text\n",
    "df['text'][0]"
   ]
  },
  {
   "attachments": {},
   "cell_type": "markdown",
   "metadata": {},
   "source": [
    "## Feature Engineering\n",
    "In this section, we will create features from the preprocessed text.\n",
    "\n",
    "We will perform the following feature engineering steps:\n",
    "- Vectorize the text using TF-IDF"
   ]
  },
  {
   "cell_type": "code",
   "execution_count": 112,
   "metadata": {},
   "outputs": [
    {
     "data": {
      "text/plain": [
       "'hpl nom january 9 2001 see attached file hplnol 09 xl hplnol 09 xl'"
      ]
     },
     "execution_count": 112,
     "metadata": {},
     "output_type": "execute_result"
    }
   ],
   "source": [
    "# show the first text\n",
    "df['text'][1]"
   ]
  },
  {
   "cell_type": "code",
   "execution_count": 113,
   "metadata": {},
   "outputs": [
    {
     "data": {
      "text/html": [
       "<div>\n",
       "<style scoped>\n",
       "    .dataframe tbody tr th:only-of-type {\n",
       "        vertical-align: middle;\n",
       "    }\n",
       "\n",
       "    .dataframe tbody tr th {\n",
       "        vertical-align: top;\n",
       "    }\n",
       "\n",
       "    .dataframe thead th {\n",
       "        text-align: right;\n",
       "    }\n",
       "</style>\n",
       "<table border=\"1\" class=\"dataframe\">\n",
       "  <thead>\n",
       "    <tr style=\"text-align: right;\">\n",
       "      <th></th>\n",
       "      <th>label</th>\n",
       "      <th>text</th>\n",
       "    </tr>\n",
       "  </thead>\n",
       "  <tbody>\n",
       "    <tr>\n",
       "      <th>0</th>\n",
       "      <td>0</td>\n",
       "      <td>methanol meter 988291 follow note gave monday ...</td>\n",
       "    </tr>\n",
       "    <tr>\n",
       "      <th>1</th>\n",
       "      <td>0</td>\n",
       "      <td>hpl nom january 9 2001 see attached file hplno...</td>\n",
       "    </tr>\n",
       "    <tr>\n",
       "      <th>2</th>\n",
       "      <td>0</td>\n",
       "      <td>neon retreat ho ho ho around wonderful time ye...</td>\n",
       "    </tr>\n",
       "    <tr>\n",
       "      <th>3</th>\n",
       "      <td>1</td>\n",
       "      <td>photoshop window office cheap main trending ab...</td>\n",
       "    </tr>\n",
       "    <tr>\n",
       "      <th>4</th>\n",
       "      <td>0</td>\n",
       "      <td>indian spring deal book teco pvr revenue under...</td>\n",
       "    </tr>\n",
       "  </tbody>\n",
       "</table>\n",
       "</div>"
      ],
      "text/plain": [
       "   label                                               text\n",
       "0      0  methanol meter 988291 follow note gave monday ...\n",
       "1      0  hpl nom january 9 2001 see attached file hplno...\n",
       "2      0  neon retreat ho ho ho around wonderful time ye...\n",
       "3      1  photoshop window office cheap main trending ab...\n",
       "4      0  indian spring deal book teco pvr revenue under..."
      ]
     },
     "execution_count": 113,
     "metadata": {},
     "output_type": "execute_result"
    }
   ],
   "source": [
    "# encode the label\n",
    "\n",
    "from sklearn.preprocessing import LabelEncoder\n",
    "le = LabelEncoder()\n",
    "df['label'] = le.fit_transform(df['label'])\n",
    "df.head()"
   ]
  },
  {
   "cell_type": "code",
   "execution_count": 115,
   "metadata": {},
   "outputs": [],
   "source": [
    "\n",
    "from sklearn.pipeline import Pipeline\n",
    "from sklearn.feature_extraction.text import TfidfVectorizer\n",
    "from sklearn.naive_bayes import MultinomialNB\n",
    "\n",
    "pipeline = Pipeline([\n",
    "    ('tfidf', TfidfVectorizer()),\n",
    "    ('clf', MultinomialNB()),\n",
    "])\n"
   ]
  },
  {
   "attachments": {},
   "cell_type": "markdown",
   "metadata": {},
   "source": [
    "## Splitting the dataset"
   ]
  },
  {
   "cell_type": "code",
   "execution_count": 117,
   "metadata": {},
   "outputs": [
    {
     "name": "stdout",
     "output_type": "stream",
     "text": [
      "X_train shape: (4136,)\n",
      "y_train shape: (4136,)\n",
      "X_test shape: (1035,)\n",
      "y_test shape: (1035,)\n"
     ]
    }
   ],
   "source": [
    "# split the data into train and test\n",
    "X_train, X_test, y_train, y_test = train_test_split(df['text'], df['label'], test_size=0.2, random_state=42)\n",
    "print(f\"X_train shape: {X_train.shape}\")\n",
    "print(f\"y_train shape: {y_train.shape}\")\n",
    "print(f\"X_test shape: {X_test.shape}\")\n",
    "print(f\"y_test shape: {y_test.shape}\")\n"
   ]
  },
  {
   "attachments": {},
   "cell_type": "markdown",
   "metadata": {},
   "source": [
    "## Model Training"
   ]
  },
  {
   "cell_type": "code",
   "execution_count": 118,
   "metadata": {},
   "outputs": [
    {
     "data": {
      "text/html": [
       "<style>#sk-container-id-3 {color: black;background-color: white;}#sk-container-id-3 pre{padding: 0;}#sk-container-id-3 div.sk-toggleable {background-color: white;}#sk-container-id-3 label.sk-toggleable__label {cursor: pointer;display: block;width: 100%;margin-bottom: 0;padding: 0.3em;box-sizing: border-box;text-align: center;}#sk-container-id-3 label.sk-toggleable__label-arrow:before {content: \"▸\";float: left;margin-right: 0.25em;color: #696969;}#sk-container-id-3 label.sk-toggleable__label-arrow:hover:before {color: black;}#sk-container-id-3 div.sk-estimator:hover label.sk-toggleable__label-arrow:before {color: black;}#sk-container-id-3 div.sk-toggleable__content {max-height: 0;max-width: 0;overflow: hidden;text-align: left;background-color: #f0f8ff;}#sk-container-id-3 div.sk-toggleable__content pre {margin: 0.2em;color: black;border-radius: 0.25em;background-color: #f0f8ff;}#sk-container-id-3 input.sk-toggleable__control:checked~div.sk-toggleable__content {max-height: 200px;max-width: 100%;overflow: auto;}#sk-container-id-3 input.sk-toggleable__control:checked~label.sk-toggleable__label-arrow:before {content: \"▾\";}#sk-container-id-3 div.sk-estimator input.sk-toggleable__control:checked~label.sk-toggleable__label {background-color: #d4ebff;}#sk-container-id-3 div.sk-label input.sk-toggleable__control:checked~label.sk-toggleable__label {background-color: #d4ebff;}#sk-container-id-3 input.sk-hidden--visually {border: 0;clip: rect(1px 1px 1px 1px);clip: rect(1px, 1px, 1px, 1px);height: 1px;margin: -1px;overflow: hidden;padding: 0;position: absolute;width: 1px;}#sk-container-id-3 div.sk-estimator {font-family: monospace;background-color: #f0f8ff;border: 1px dotted black;border-radius: 0.25em;box-sizing: border-box;margin-bottom: 0.5em;}#sk-container-id-3 div.sk-estimator:hover {background-color: #d4ebff;}#sk-container-id-3 div.sk-parallel-item::after {content: \"\";width: 100%;border-bottom: 1px solid gray;flex-grow: 1;}#sk-container-id-3 div.sk-label:hover label.sk-toggleable__label {background-color: #d4ebff;}#sk-container-id-3 div.sk-serial::before {content: \"\";position: absolute;border-left: 1px solid gray;box-sizing: border-box;top: 0;bottom: 0;left: 50%;z-index: 0;}#sk-container-id-3 div.sk-serial {display: flex;flex-direction: column;align-items: center;background-color: white;padding-right: 0.2em;padding-left: 0.2em;position: relative;}#sk-container-id-3 div.sk-item {position: relative;z-index: 1;}#sk-container-id-3 div.sk-parallel {display: flex;align-items: stretch;justify-content: center;background-color: white;position: relative;}#sk-container-id-3 div.sk-item::before, #sk-container-id-3 div.sk-parallel-item::before {content: \"\";position: absolute;border-left: 1px solid gray;box-sizing: border-box;top: 0;bottom: 0;left: 50%;z-index: -1;}#sk-container-id-3 div.sk-parallel-item {display: flex;flex-direction: column;z-index: 1;position: relative;background-color: white;}#sk-container-id-3 div.sk-parallel-item:first-child::after {align-self: flex-end;width: 50%;}#sk-container-id-3 div.sk-parallel-item:last-child::after {align-self: flex-start;width: 50%;}#sk-container-id-3 div.sk-parallel-item:only-child::after {width: 0;}#sk-container-id-3 div.sk-dashed-wrapped {border: 1px dashed gray;margin: 0 0.4em 0.5em 0.4em;box-sizing: border-box;padding-bottom: 0.4em;background-color: white;}#sk-container-id-3 div.sk-label label {font-family: monospace;font-weight: bold;display: inline-block;line-height: 1.2em;}#sk-container-id-3 div.sk-label-container {text-align: center;}#sk-container-id-3 div.sk-container {/* jupyter's `normalize.less` sets `[hidden] { display: none; }` but bootstrap.min.css set `[hidden] { display: none !important; }` so we also need the `!important` here to be able to override the default hidden behavior on the sphinx rendered scikit-learn.org. See: https://github.com/scikit-learn/scikit-learn/issues/21755 */display: inline-block !important;position: relative;}#sk-container-id-3 div.sk-text-repr-fallback {display: none;}</style><div id=\"sk-container-id-3\" class=\"sk-top-container\"><div class=\"sk-text-repr-fallback\"><pre>Pipeline(steps=[(&#x27;tfidf&#x27;, TfidfVectorizer()), (&#x27;clf&#x27;, MultinomialNB())])</pre><b>In a Jupyter environment, please rerun this cell to show the HTML representation or trust the notebook. <br />On GitHub, the HTML representation is unable to render, please try loading this page with nbviewer.org.</b></div><div class=\"sk-container\" hidden><div class=\"sk-item sk-dashed-wrapped\"><div class=\"sk-label-container\"><div class=\"sk-label sk-toggleable\"><input class=\"sk-toggleable__control sk-hidden--visually\" id=\"sk-estimator-id-8\" type=\"checkbox\" ><label for=\"sk-estimator-id-8\" class=\"sk-toggleable__label sk-toggleable__label-arrow\">Pipeline</label><div class=\"sk-toggleable__content\"><pre>Pipeline(steps=[(&#x27;tfidf&#x27;, TfidfVectorizer()), (&#x27;clf&#x27;, MultinomialNB())])</pre></div></div></div><div class=\"sk-serial\"><div class=\"sk-item\"><div class=\"sk-estimator sk-toggleable\"><input class=\"sk-toggleable__control sk-hidden--visually\" id=\"sk-estimator-id-9\" type=\"checkbox\" ><label for=\"sk-estimator-id-9\" class=\"sk-toggleable__label sk-toggleable__label-arrow\">TfidfVectorizer</label><div class=\"sk-toggleable__content\"><pre>TfidfVectorizer()</pre></div></div></div><div class=\"sk-item\"><div class=\"sk-estimator sk-toggleable\"><input class=\"sk-toggleable__control sk-hidden--visually\" id=\"sk-estimator-id-10\" type=\"checkbox\" ><label for=\"sk-estimator-id-10\" class=\"sk-toggleable__label sk-toggleable__label-arrow\">MultinomialNB</label><div class=\"sk-toggleable__content\"><pre>MultinomialNB()</pre></div></div></div></div></div></div></div>"
      ],
      "text/plain": [
       "Pipeline(steps=[('tfidf', TfidfVectorizer()), ('clf', MultinomialNB())])"
      ]
     },
     "execution_count": 118,
     "metadata": {},
     "output_type": "execute_result"
    }
   ],
   "source": [
    "# train the model\n",
    "pipeline.fit(X_train, y_train)\n",
    "pipeline"
   ]
  },
  {
   "attachments": {},
   "cell_type": "markdown",
   "metadata": {},
   "source": [
    "### Grid search"
   ]
  },
  {
   "cell_type": "code",
   "execution_count": 119,
   "metadata": {},
   "outputs": [
    {
     "name": "stdout",
     "output_type": "stream",
     "text": [
      "Fitting 5 folds for each of 24 candidates, totalling 120 fits\n"
     ]
    },
    {
     "data": {
      "text/html": [
       "<style>#sk-container-id-4 {color: black;background-color: white;}#sk-container-id-4 pre{padding: 0;}#sk-container-id-4 div.sk-toggleable {background-color: white;}#sk-container-id-4 label.sk-toggleable__label {cursor: pointer;display: block;width: 100%;margin-bottom: 0;padding: 0.3em;box-sizing: border-box;text-align: center;}#sk-container-id-4 label.sk-toggleable__label-arrow:before {content: \"▸\";float: left;margin-right: 0.25em;color: #696969;}#sk-container-id-4 label.sk-toggleable__label-arrow:hover:before {color: black;}#sk-container-id-4 div.sk-estimator:hover label.sk-toggleable__label-arrow:before {color: black;}#sk-container-id-4 div.sk-toggleable__content {max-height: 0;max-width: 0;overflow: hidden;text-align: left;background-color: #f0f8ff;}#sk-container-id-4 div.sk-toggleable__content pre {margin: 0.2em;color: black;border-radius: 0.25em;background-color: #f0f8ff;}#sk-container-id-4 input.sk-toggleable__control:checked~div.sk-toggleable__content {max-height: 200px;max-width: 100%;overflow: auto;}#sk-container-id-4 input.sk-toggleable__control:checked~label.sk-toggleable__label-arrow:before {content: \"▾\";}#sk-container-id-4 div.sk-estimator input.sk-toggleable__control:checked~label.sk-toggleable__label {background-color: #d4ebff;}#sk-container-id-4 div.sk-label input.sk-toggleable__control:checked~label.sk-toggleable__label {background-color: #d4ebff;}#sk-container-id-4 input.sk-hidden--visually {border: 0;clip: rect(1px 1px 1px 1px);clip: rect(1px, 1px, 1px, 1px);height: 1px;margin: -1px;overflow: hidden;padding: 0;position: absolute;width: 1px;}#sk-container-id-4 div.sk-estimator {font-family: monospace;background-color: #f0f8ff;border: 1px dotted black;border-radius: 0.25em;box-sizing: border-box;margin-bottom: 0.5em;}#sk-container-id-4 div.sk-estimator:hover {background-color: #d4ebff;}#sk-container-id-4 div.sk-parallel-item::after {content: \"\";width: 100%;border-bottom: 1px solid gray;flex-grow: 1;}#sk-container-id-4 div.sk-label:hover label.sk-toggleable__label {background-color: #d4ebff;}#sk-container-id-4 div.sk-serial::before {content: \"\";position: absolute;border-left: 1px solid gray;box-sizing: border-box;top: 0;bottom: 0;left: 50%;z-index: 0;}#sk-container-id-4 div.sk-serial {display: flex;flex-direction: column;align-items: center;background-color: white;padding-right: 0.2em;padding-left: 0.2em;position: relative;}#sk-container-id-4 div.sk-item {position: relative;z-index: 1;}#sk-container-id-4 div.sk-parallel {display: flex;align-items: stretch;justify-content: center;background-color: white;position: relative;}#sk-container-id-4 div.sk-item::before, #sk-container-id-4 div.sk-parallel-item::before {content: \"\";position: absolute;border-left: 1px solid gray;box-sizing: border-box;top: 0;bottom: 0;left: 50%;z-index: -1;}#sk-container-id-4 div.sk-parallel-item {display: flex;flex-direction: column;z-index: 1;position: relative;background-color: white;}#sk-container-id-4 div.sk-parallel-item:first-child::after {align-self: flex-end;width: 50%;}#sk-container-id-4 div.sk-parallel-item:last-child::after {align-self: flex-start;width: 50%;}#sk-container-id-4 div.sk-parallel-item:only-child::after {width: 0;}#sk-container-id-4 div.sk-dashed-wrapped {border: 1px dashed gray;margin: 0 0.4em 0.5em 0.4em;box-sizing: border-box;padding-bottom: 0.4em;background-color: white;}#sk-container-id-4 div.sk-label label {font-family: monospace;font-weight: bold;display: inline-block;line-height: 1.2em;}#sk-container-id-4 div.sk-label-container {text-align: center;}#sk-container-id-4 div.sk-container {/* jupyter's `normalize.less` sets `[hidden] { display: none; }` but bootstrap.min.css set `[hidden] { display: none !important; }` so we also need the `!important` here to be able to override the default hidden behavior on the sphinx rendered scikit-learn.org. See: https://github.com/scikit-learn/scikit-learn/issues/21755 */display: inline-block !important;position: relative;}#sk-container-id-4 div.sk-text-repr-fallback {display: none;}</style><div id=\"sk-container-id-4\" class=\"sk-top-container\"><div class=\"sk-text-repr-fallback\"><pre>GridSearchCV(estimator=Pipeline(steps=[(&#x27;tfidf&#x27;, TfidfVectorizer()),\n",
       "                                       (&#x27;clf&#x27;, MultinomialNB())]),\n",
       "             n_jobs=-1,\n",
       "             param_grid={&#x27;clf__alpha&#x27;: (0.01, 0.001),\n",
       "                         &#x27;tfidf__max_features&#x27;: (1000, 2000, 3000),\n",
       "                         &#x27;tfidf__ngram_range&#x27;: ((1, 1), (1, 2)),\n",
       "                         &#x27;tfidf__use_idf&#x27;: (True, False)},\n",
       "             verbose=1)</pre><b>In a Jupyter environment, please rerun this cell to show the HTML representation or trust the notebook. <br />On GitHub, the HTML representation is unable to render, please try loading this page with nbviewer.org.</b></div><div class=\"sk-container\" hidden><div class=\"sk-item sk-dashed-wrapped\"><div class=\"sk-label-container\"><div class=\"sk-label sk-toggleable\"><input class=\"sk-toggleable__control sk-hidden--visually\" id=\"sk-estimator-id-11\" type=\"checkbox\" ><label for=\"sk-estimator-id-11\" class=\"sk-toggleable__label sk-toggleable__label-arrow\">GridSearchCV</label><div class=\"sk-toggleable__content\"><pre>GridSearchCV(estimator=Pipeline(steps=[(&#x27;tfidf&#x27;, TfidfVectorizer()),\n",
       "                                       (&#x27;clf&#x27;, MultinomialNB())]),\n",
       "             n_jobs=-1,\n",
       "             param_grid={&#x27;clf__alpha&#x27;: (0.01, 0.001),\n",
       "                         &#x27;tfidf__max_features&#x27;: (1000, 2000, 3000),\n",
       "                         &#x27;tfidf__ngram_range&#x27;: ((1, 1), (1, 2)),\n",
       "                         &#x27;tfidf__use_idf&#x27;: (True, False)},\n",
       "             verbose=1)</pre></div></div></div><div class=\"sk-parallel\"><div class=\"sk-parallel-item\"><div class=\"sk-item\"><div class=\"sk-label-container\"><div class=\"sk-label sk-toggleable\"><input class=\"sk-toggleable__control sk-hidden--visually\" id=\"sk-estimator-id-12\" type=\"checkbox\" ><label for=\"sk-estimator-id-12\" class=\"sk-toggleable__label sk-toggleable__label-arrow\">estimator: Pipeline</label><div class=\"sk-toggleable__content\"><pre>Pipeline(steps=[(&#x27;tfidf&#x27;, TfidfVectorizer()), (&#x27;clf&#x27;, MultinomialNB())])</pre></div></div></div><div class=\"sk-serial\"><div class=\"sk-item\"><div class=\"sk-serial\"><div class=\"sk-item\"><div class=\"sk-estimator sk-toggleable\"><input class=\"sk-toggleable__control sk-hidden--visually\" id=\"sk-estimator-id-13\" type=\"checkbox\" ><label for=\"sk-estimator-id-13\" class=\"sk-toggleable__label sk-toggleable__label-arrow\">TfidfVectorizer</label><div class=\"sk-toggleable__content\"><pre>TfidfVectorizer()</pre></div></div></div><div class=\"sk-item\"><div class=\"sk-estimator sk-toggleable\"><input class=\"sk-toggleable__control sk-hidden--visually\" id=\"sk-estimator-id-14\" type=\"checkbox\" ><label for=\"sk-estimator-id-14\" class=\"sk-toggleable__label sk-toggleable__label-arrow\">MultinomialNB</label><div class=\"sk-toggleable__content\"><pre>MultinomialNB()</pre></div></div></div></div></div></div></div></div></div></div></div></div>"
      ],
      "text/plain": [
       "GridSearchCV(estimator=Pipeline(steps=[('tfidf', TfidfVectorizer()),\n",
       "                                       ('clf', MultinomialNB())]),\n",
       "             n_jobs=-1,\n",
       "             param_grid={'clf__alpha': (0.01, 0.001),\n",
       "                         'tfidf__max_features': (1000, 2000, 3000),\n",
       "                         'tfidf__ngram_range': ((1, 1), (1, 2)),\n",
       "                         'tfidf__use_idf': (True, False)},\n",
       "             verbose=1)"
      ]
     },
     "execution_count": 119,
     "metadata": {},
     "output_type": "execute_result"
    }
   ],
   "source": [
    "# grid search\n",
    "from sklearn.model_selection import GridSearchCV\n",
    "\n",
    "parameters = {\n",
    "    'tfidf__max_features': (1000, 2000, 3000),\n",
    "    'tfidf__ngram_range': ((1, 1), (1, 2)),\n",
    "    'tfidf__use_idf': (True, False),\n",
    "    'clf__alpha': (1e-2, 1e-3),\n",
    "}\n",
    "\n",
    "grid_search = GridSearchCV(pipeline, parameters, n_jobs=-1, verbose=1)\n",
    "grid_search.fit(X_train, y_train)"
   ]
  },
  {
   "cell_type": "code",
   "execution_count": 120,
   "metadata": {},
   "outputs": [
    {
     "name": "stdout",
     "output_type": "stream",
     "text": [
      "Best parameters set:\n",
      "\tclf__alpha: 0.001\n",
      "\ttfidf__max_features: 3000\n",
      "\ttfidf__ngram_range: (1, 1)\n",
      "\ttfidf__use_idf: False\n"
     ]
    }
   ],
   "source": [
    "# print the best parameters\n",
    "print(\"Best parameters set:\")\n",
    "best_parameters = grid_search.best_estimator_.get_params()\n",
    "for param_name in sorted(parameters.keys()):\n",
    "    print(\"\\t%s: %r\" % (param_name, best_parameters[param_name]))"
   ]
  },
  {
   "attachments": {},
   "cell_type": "markdown",
   "metadata": {},
   "source": [
    "## Model Evaluation"
   ]
  },
  {
   "cell_type": "code",
   "execution_count": 121,
   "metadata": {},
   "outputs": [
    {
     "data": {
      "text/plain": [
       "array([0, 1, 0, ..., 1, 0, 0])"
      ]
     },
     "execution_count": 121,
     "metadata": {},
     "output_type": "execute_result"
    }
   ],
   "source": [
    "# predict the test data\n",
    "y_pred = pipeline.predict(X_test)\n",
    "y_pred"
   ]
  },
  {
   "cell_type": "code",
   "execution_count": 122,
   "metadata": {},
   "outputs": [],
   "source": [
    "# show the confusion matrix\n",
    "confusion = confusion_matrix(y_test, y_pred)"
   ]
  },
  {
   "cell_type": "code",
   "execution_count": 123,
   "metadata": {},
   "outputs": [
    {
     "data": {
      "text/plain": [
       "Text(0.5, 1.0, 'Confusion Matrix')"
      ]
     },
     "execution_count": 123,
     "metadata": {},
     "output_type": "execute_result"
    },
    {
     "data": {
      "image/png": "[encoded data removed]",
      "text/plain": [
       "<Figure size 640x480 with 2 Axes>"
      ]
     },
     "metadata": {},
     "output_type": "display_data"
    }
   ],
   "source": [
    "# plot the confusion matrix\n",
    "sns.heatmap(confusion, annot=True, fmt='d')\n",
    "plt.xlabel('Predicted')\n",
    "plt.ylabel('Actual')\n",
    "plt.title('Confusion Matrix')\n"
   ]
  },
  {
   "cell_type": "code",
   "execution_count": 124,
   "metadata": {},
   "outputs": [
    {
     "name": "stdout",
     "output_type": "stream",
     "text": [
      "              precision    recall  f1-score   support\n",
      "\n",
      "           0       0.90      1.00      0.95       742\n",
      "           1       1.00      0.72      0.83       293\n",
      "\n",
      "    accuracy                           0.92      1035\n",
      "   macro avg       0.95      0.86      0.89      1035\n",
      "weighted avg       0.93      0.92      0.92      1035\n",
      "\n"
     ]
    }
   ],
   "source": [
    "# show the classification report\n",
    "print(classification_report(y_test, y_pred))"
   ]
  },
  {
   "cell_type": "code",
   "execution_count": 125,
   "metadata": {},
   "outputs": [
    {
     "data": {
      "text/plain": [
       "91.98067632850243"
      ]
     },
     "execution_count": 125,
     "metadata": {},
     "output_type": "execute_result"
    }
   ],
   "source": [
    "# accuracy score in %\n",
    "accuracy_score(y_test, y_pred) * 100\n"
   ]
  },
  {
   "attachments": {},
   "cell_type": "markdown",
   "metadata": {},
   "source": [
    "## Orchestrating the model training and evaluation"
   ]
  },
  {
   "attachments": {},
   "cell_type": "markdown",
   "metadata": {},
   "source": [
    "### Preprocessing and Feature Engineering"
   ]
  },
  {
   "cell_type": "code",
   "execution_count": 129,
   "metadata": {},
   "outputs": [
    {
     "data": {
      "text/html": [
       "<pre style=\"white-space:pre;overflow-x:auto;line-height:normal;font-family:Menlo,'DejaVu Sans Mono',consolas,'Courier New',monospace\">00:54:01.125 | <span style=\"color: #d7d700; text-decoration-color: #d7d700\">WARNING</span> | py.warnings - /opt/conda/lib/python3.10/site-packages/prefect/tasks.py:270: UserWarning: A task named 'drop_columns' and defined at '/tmp/ipykernel_1100/813363705.py:6' conflicts with another task. Consider specifying a unique `name` parameter in the task definition:\n",
       "\n",
       " `@task(name='my_unique_name', ...)`\n",
       "  warnings.warn(\n",
       "\n",
       "</pre>\n"
      ],
      "text/plain": [
       "00:54:01.125 | \u001b[38;5;184mWARNING\u001b[0m | py.warnings - /opt/conda/lib/python3.10/site-packages/prefect/tasks.py:270: UserWarning: A task named 'drop_columns' and defined at '/tmp/ipykernel_1100/813363705.py:6' conflicts with another task. Consider specifying a unique `name` parameter in the task definition:\n",
       "\n",
       " `@task(name='my_unique_name', ...)`\n",
       "  warnings.warn(\n",
       "\n"
      ]
     },
     "metadata": {},
     "output_type": "display_data"
    }
   ],
   "source": [
    "from prefect import task, flow\n",
    "from typing import List, Dict, Any, Optional\n",
    "\n",
    "columns_to_drop = ['Unnamed: 0', 'label_num']\n",
    "\n",
    "@task(name='drop_columns', tags=['preprocessing'])\n",
    "def drop_columns(\n",
    "        df : pd.DataFrame,\n",
    "        column_to_drop: list = columns_to_drop  \n",
    ") -> pd.DataFrame:\n",
    "        \"\"\"\n",
    "        Drop columns from the dataframe\n",
    "        \"\"\"\n",
    "        df.drop(columns=column_to_drop, inplace=True)\n",
    "        return df\n",
    "        "
   ]
  },
  {
   "cell_type": "code",
   "execution_count": 174,
   "metadata": {},
   "outputs": [
    {
     "data": {
      "text/html": [
       "<pre style=\"white-space:pre;overflow-x:auto;line-height:normal;font-family:Menlo,'DejaVu Sans Mono',consolas,'Courier New',monospace\">01:37:19.147 | <span style=\"color: #d7d700; text-decoration-color: #d7d700\">WARNING</span> | py.warnings - /opt/conda/lib/python3.10/site-packages/prefect/tasks.py:270: UserWarning: A task named 'preprocess_text' and defined at '/tmp/ipykernel_1100/2922993904.py:20' conflicts with another task. Consider specifying a unique `name` parameter in the task definition:\n",
       "\n",
       " `@task(name='my_unique_name', ...)`\n",
       "  warnings.warn(\n",
       "\n",
       "</pre>\n"
      ],
      "text/plain": [
       "01:37:19.147 | \u001b[38;5;184mWARNING\u001b[0m | py.warnings - /opt/conda/lib/python3.10/site-packages/prefect/tasks.py:270: UserWarning: A task named 'preprocess_text' and defined at '/tmp/ipykernel_1100/2922993904.py:20' conflicts with another task. Consider specifying a unique `name` parameter in the task definition:\n",
       "\n",
       " `@task(name='my_unique_name', ...)`\n",
       "  warnings.warn(\n",
       "\n"
      ]
     },
     "metadata": {},
     "output_type": "display_data"
    }
   ],
   "source": [
    "\n",
    "def preprocess_text_base(df: pd.DataFrame) -> pd.DataFrame:\n",
    "    \"\"\"\n",
    "    Preprocess text data\n",
    "    Args:\n",
    "        df (pd.DataFrame): dataframe containing text data\n",
    "    Returns:\n",
    "        pd.DataFrame: preprocessed dataframe\n",
    "    \"\"\"\n",
    "    df['text'] = df['text'].astype(str)\n",
    "    df['text'] = df['text'].str.replace(r'[^\\w\\s]', '')\n",
    "    df['text'] = df['text'].str.lower()\n",
    "    stop = stopwords.words('english')\n",
    "    df['text'] = df['text'].apply(lambda x: \" \".join(x for x in x.split() if x not in stop))\n",
    "    freq = pd.Series(' '.join(df['text']).split()).value_counts()[-10:]\n",
    "    freq = list(freq.index)\n",
    "    df['text'] = df['text'].apply(lambda x: \" \".join(x for x in x.split() if x not in freq))\n",
    "    df['text'] = df['text'].apply(lambda x: \" \".join([Word(word).lemmatize() for word in x.split()]))\n",
    "    return df\n",
    "\n",
    "@task(name='preprocess_text', tags=['preprocessing'])\n",
    "def preprocess_text(df: pd.DataFrame) -> pd.DataFrame:\n",
    "    \"\"\"\n",
    "    Preprocess text data\n",
    "    Args:\n",
    "        df (pd.DataFrame): dataframe containing text data\n",
    "    Returns:\n",
    "        pd.DataFrame: preprocessed dataframe\n",
    "    \"\"\"\n",
    "    return preprocess_text_base(df)\n",
    "\n"
   ]
  },
  {
   "cell_type": "code",
   "execution_count": 131,
   "metadata": {},
   "outputs": [],
   "source": [
    "@task(name='extract_x_y', tags=['preprocessing'])\n",
    "def extract_x_y(\n",
    "        df: pd.DataFrame,\n",
    "        with_target: bool = True,\n",
    ") -> dict:\n",
    "    \"\"\"\n",
    "    Extract X and y from dataframe\n",
    "    Args:\n",
    "        df (pd.DataFrame): dataframe containing text data\n",
    "        with_target (bool): whether to extract target or not\n",
    "    Returns:\n",
    "        dict: dictionary containing X and y\n",
    "    \"\"\"\n",
    "    if with_target:\n",
    "        X = df['text']\n",
    "        y = df['label']\n",
    "    else:\n",
    "        X = df['text']\n",
    "        y = None\n",
    "\n",
    "    return {'X': X, 'y': y }"
   ]
  },
  {
   "cell_type": "code",
   "execution_count": 199,
   "metadata": {},
   "outputs": [],
   "source": [
    "def save_pickle(path: str, obj: dict):\n",
    "    with open(path, 'wb') as f:\n",
    "        pickle.dump(obj, f)"
   ]
  },
  {
   "cell_type": "code",
   "execution_count": 215,
   "metadata": {},
   "outputs": [
    {
     "data": {
      "text/html": [
       "<pre style=\"white-space:pre;overflow-x:auto;line-height:normal;font-family:Menlo,'DejaVu Sans Mono',consolas,'Courier New',monospace\">02:01:46.848 | <span style=\"color: #d7d700; text-decoration-color: #d7d700\">WARNING</span> | py.warnings - /opt/conda/lib/python3.10/site-packages/prefect/tasks.py:270: UserWarning: A task named 'save_label_encoder' and defined at '/tmp/ipykernel_1100/1809663541.py:6' conflicts with another task. Consider specifying a unique `name` parameter in the task definition:\n",
       "\n",
       " `@task(name='my_unique_name', ...)`\n",
       "  warnings.warn(\n",
       "\n",
       "</pre>\n"
      ],
      "text/plain": [
       "02:01:46.848 | \u001b[38;5;184mWARNING\u001b[0m | py.warnings - /opt/conda/lib/python3.10/site-packages/prefect/tasks.py:270: UserWarning: A task named 'save_label_encoder' and defined at '/tmp/ipykernel_1100/1809663541.py:6' conflicts with another task. Consider specifying a unique `name` parameter in the task definition:\n",
       "\n",
       " `@task(name='my_unique_name', ...)`\n",
       "  warnings.warn(\n",
       "\n"
      ]
     },
     "metadata": {},
     "output_type": "display_data"
    },
    {
     "data": {
      "text/html": [
       "<pre style=\"white-space:pre;overflow-x:auto;line-height:normal;font-family:Menlo,'DejaVu Sans Mono',consolas,'Courier New',monospace\">02:01:46.861 | <span style=\"color: #d7d700; text-decoration-color: #d7d700\">WARNING</span> | py.warnings - /opt/conda/lib/python3.10/site-packages/prefect/flows.py:214: UserWarning: A flow named 'Data processing' and defined at '/tmp/ipykernel_1100/1809663541.py:19' conflicts with another flow. Consider specifying a unique `name` parameter in the flow definition:\n",
       "\n",
       " `@flow(name='my_unique_name', ...)`\n",
       "  warnings.warn(\n",
       "\n",
       "</pre>\n"
      ],
      "text/plain": [
       "02:01:46.861 | \u001b[38;5;184mWARNING\u001b[0m | py.warnings - /opt/conda/lib/python3.10/site-packages/prefect/flows.py:214: UserWarning: A flow named 'Data processing' and defined at '/tmp/ipykernel_1100/1809663541.py:19' conflicts with another flow. Consider specifying a unique `name` parameter in the flow definition:\n",
       "\n",
       " `@flow(name='my_unique_name', ...)`\n",
       "  warnings.warn(\n",
       "\n"
      ]
     },
     "metadata": {},
     "output_type": "display_data"
    }
   ],
   "source": [
    "# save label encoder\n",
    "local_storage = \"training_data\"\n",
    "le_storage = os.path.join(local_storage, \"tv\")\n",
    "le_path = os.path.join(le_storage, \"label_encoder.pkl\")\n",
    "\n",
    "@task(name='save_label_encoder', tags=['preprocessing'])\n",
    "def save_label_encoder(encoder : LabelEncoder, path: str) -> None:\n",
    "    \"\"\"\n",
    "    Save label encoder\n",
    "    Args:\n",
    "        encoder (LabelEncoder): label encoder\n",
    "        path (str): path to save the label encoder\n",
    "    \"\"\"\n",
    "    os.makedirs(local_storage, exist_ok=True)\n",
    "    os.makedirs(le_storage, exist_ok=True)    \n",
    "    save_pickle(path, encoder)\n",
    " \n",
    "\n",
    "@flow(name=\"Data processing\")\n",
    "def preprocess_data(\n",
    "        path: str, \n",
    "        with_target: bool = True,\n",
    ") -> dict:\n",
    "    \"\"\"\n",
    "    Preprocess data\n",
    "    Args:\n",
    "        path (str): path to the data\n",
    "        with_target (bool): whether to extract target or not\n",
    "    Returns:\n",
    "        dict: dictionary containing X and y\n",
    "    \"\"\"\n",
    "\n",
    "    nltk.download('stopwords')\n",
    "    nltk.download('wordnet')\n",
    "    df = pd.read_csv(path)\n",
    "    df = drop_columns(df)\n",
    "    df = preprocess_text(df)\n",
    "    \n",
    "    if with_target: \n",
    "        label_encoder = LabelEncoder()\n",
    "        label_encoder.fit(df['label'])\n",
    "        df['label'] = label_encoder.transform(df['label'])\n",
    "        save_label_encoder(label_encoder,le_path)\n",
    "\n",
    "    return extract_x_y(df,with_target)"
   ]
  },
  {
   "attachments": {},
   "cell_type": "markdown",
   "metadata": {},
   "source": [
    "### Model Training"
   ]
  },
  {
   "cell_type": "code",
   "execution_count": 202,
   "metadata": {},
   "outputs": [
    {
     "data": {
      "text/html": [
       "<pre style=\"white-space:pre;overflow-x:auto;line-height:normal;font-family:Menlo,'DejaVu Sans Mono',consolas,'Courier New',monospace\">01:57:57.259 | <span style=\"color: #d7d700; text-decoration-color: #d7d700\">WARNING</span> | py.warnings - /opt/conda/lib/python3.10/site-packages/prefect/flows.py:214: UserWarning: A flow named 'Data validation' and defined at '/tmp/ipykernel_1100/2831441633.py:1' conflicts with another flow. Consider specifying a unique `name` parameter in the flow definition:\n",
       "\n",
       " `@flow(name='my_unique_name', ...)`\n",
       "  warnings.warn(\n",
       "\n",
       "</pre>\n"
      ],
      "text/plain": [
       "01:57:57.259 | \u001b[38;5;184mWARNING\u001b[0m | py.warnings - /opt/conda/lib/python3.10/site-packages/prefect/flows.py:214: UserWarning: A flow named 'Data validation' and defined at '/tmp/ipykernel_1100/2831441633.py:1' conflicts with another flow. Consider specifying a unique `name` parameter in the flow definition:\n",
       "\n",
       " `@flow(name='my_unique_name', ...)`\n",
       "  warnings.warn(\n",
       "\n"
      ]
     },
     "metadata": {},
     "output_type": "display_data"
    }
   ],
   "source": [
    "@flow(name=\"Data validation\")\n",
    "def data_validation(checkpoint_name: str):\n",
    "    run_checkpoint_validation(checkpoint_name=checkpoint_name)\n"
   ]
  },
  {
   "cell_type": "code",
   "execution_count": 203,
   "metadata": {},
   "outputs": [
    {
     "data": {
      "text/html": [
       "<pre style=\"white-space:pre;overflow-x:auto;line-height:normal;font-family:Menlo,'DejaVu Sans Mono',consolas,'Courier New',monospace\">01:57:58.281 | <span style=\"color: #d7d700; text-decoration-color: #d7d700\">WARNING</span> | py.warnings - /opt/conda/lib/python3.10/site-packages/prefect/tasks.py:270: UserWarning: A task named 'model_training' and defined at '/tmp/ipykernel_1100/2466206953.py:4' conflicts with another task. Consider specifying a unique `name` parameter in the task definition:\n",
       "\n",
       " `@task(name='my_unique_name', ...)`\n",
       "  warnings.warn(\n",
       "\n",
       "</pre>\n"
      ],
      "text/plain": [
       "01:57:58.281 | \u001b[38;5;184mWARNING\u001b[0m | py.warnings - /opt/conda/lib/python3.10/site-packages/prefect/tasks.py:270: UserWarning: A task named 'model_training' and defined at '/tmp/ipykernel_1100/2466206953.py:4' conflicts with another task. Consider specifying a unique `name` parameter in the task definition:\n",
       "\n",
       " `@task(name='my_unique_name', ...)`\n",
       "  warnings.warn(\n",
       "\n"
      ]
     },
     "metadata": {},
     "output_type": "display_data"
    }
   ],
   "source": [
    "from scipy.sparse import csr_matrix\n",
    "import numpy as np\n",
    "\n",
    "@task(name='model_training', tags=['model'])\n",
    "def model_training(X: csr_matrix, y: csr_matrix, **kwargs) -> Pipeline:\n",
    "    \"\"\" \n",
    "    Train the model\n",
    "    Args:\n",
    "        X (csr_matrix): X data\n",
    "        y (csr_matrix): y data\n",
    "        **kwargs: keyword arguments\n",
    "    Returns:\n",
    "        Pipeline: trained model\n",
    "    \"\"\"\n",
    "\n",
    "    max_features = kwargs.get('max_features', 3000)\n",
    "    ngram_range = kwargs.get('ngram_range', (1, 2))\n",
    "    use_idf = kwargs.get('use_idf', True)\n",
    "    alpha = kwargs.get('alpha', 0.01)\n",
    "    analyser = kwargs.get('analyser', 'word')\n",
    "    stop_words = kwargs.get('stop_words', 'english')\n",
    "\n",
    "    \n",
    "\n",
    "    pipeline = Pipeline([\n",
    "        ('tfidf', TfidfVectorizer(max_features=max_features, \n",
    "                                ngram_range=ngram_range, \n",
    "                                use_idf=use_idf, \n",
    "                                analyzer=analyser, \n",
    "                                stop_words=stop_words)),\n",
    "        ('clf', MultinomialNB(alpha=alpha)),\n",
    "    ])\n",
    "    pipeline.fit(X, y)\n",
    "    return pipeline"
   ]
  },
  {
   "cell_type": "code",
   "execution_count": 204,
   "metadata": {},
   "outputs": [
    {
     "data": {
      "text/html": [
       "<pre style=\"white-space:pre;overflow-x:auto;line-height:normal;font-family:Menlo,'DejaVu Sans Mono',consolas,'Courier New',monospace\">01:57:59.845 | <span style=\"color: #d7d700; text-decoration-color: #d7d700\">WARNING</span> | py.warnings - /opt/conda/lib/python3.10/site-packages/prefect/tasks.py:270: UserWarning: A task named 'model_predict' and defined at '/tmp/ipykernel_1100/1394813633.py:1' conflicts with another task. Consider specifying a unique `name` parameter in the task definition:\n",
       "\n",
       " `@task(name='my_unique_name', ...)`\n",
       "  warnings.warn(\n",
       "\n",
       "</pre>\n"
      ],
      "text/plain": [
       "01:57:59.845 | \u001b[38;5;184mWARNING\u001b[0m | py.warnings - /opt/conda/lib/python3.10/site-packages/prefect/tasks.py:270: UserWarning: A task named 'model_predict' and defined at '/tmp/ipykernel_1100/1394813633.py:1' conflicts with another task. Consider specifying a unique `name` parameter in the task definition:\n",
       "\n",
       " `@task(name='my_unique_name', ...)`\n",
       "  warnings.warn(\n",
       "\n"
      ]
     },
     "metadata": {},
     "output_type": "display_data"
    }
   ],
   "source": [
    "@task(name='model_predict', tags=['model'])\n",
    "def model_predict(input_data: csr_matrix, pipeline: Pipeline) -> np.ndarray:\n",
    "    \"\"\" \n",
    "    Predict the model\n",
    "    Args:\n",
    "        input_data (csr_matrix): input data\n",
    "        pipeline (Pipeline): trained model\n",
    "    Returns:\n",
    "        np.ndarray: predicted data\n",
    "    \"\"\"\n",
    "    return pipeline.predict(input_data)"
   ]
  },
  {
   "cell_type": "code",
   "execution_count": 205,
   "metadata": {},
   "outputs": [
    {
     "data": {
      "text/html": [
       "<pre style=\"white-space:pre;overflow-x:auto;line-height:normal;font-family:Menlo,'DejaVu Sans Mono',consolas,'Courier New',monospace\">01:58:01.273 | <span style=\"color: #d7d700; text-decoration-color: #d7d700\">WARNING</span> | py.warnings - /opt/conda/lib/python3.10/site-packages/prefect/tasks.py:270: UserWarning: A task named 'model_evaluation' and defined at '/tmp/ipykernel_1100/974189802.py:1' conflicts with another task. Consider specifying a unique `name` parameter in the task definition:\n",
       "\n",
       " `@task(name='my_unique_name', ...)`\n",
       "  warnings.warn(\n",
       "\n",
       "</pre>\n"
      ],
      "text/plain": [
       "01:58:01.273 | \u001b[38;5;184mWARNING\u001b[0m | py.warnings - /opt/conda/lib/python3.10/site-packages/prefect/tasks.py:270: UserWarning: A task named 'model_evaluation' and defined at '/tmp/ipykernel_1100/974189802.py:1' conflicts with another task. Consider specifying a unique `name` parameter in the task definition:\n",
       "\n",
       " `@task(name='my_unique_name', ...)`\n",
       "  warnings.warn(\n",
       "\n"
      ]
     },
     "metadata": {},
     "output_type": "display_data"
    }
   ],
   "source": [
    "@task(name='model_evaluation', tags=['model'])\n",
    "def model_evaluation(y_true : np.ndarray, y_pred : np.ndarray) -> dict:\n",
    "    \"\"\"\n",
    "    Evaluate the model\n",
    "    Args:\n",
    "        y_true (np.ndarray): true labels\n",
    "        y_pred (np.ndarray): predicted labels\n",
    "    Returns:\n",
    "        dict: dictionary containing accuracy, precision, recall and f1 score\n",
    "    \"\"\"\n",
    "    accuracy = accuracy_score(y_true, y_pred)\n",
    "    precision = precision_score(y_true, y_pred)\n",
    "    recall = recall_score(y_true, y_pred)\n",
    "    f1 = f1_score(y_true, y_pred)\n",
    "    return {\n",
    "        'accuracy': accuracy,\n",
    "        'precision': precision,\n",
    "        'recall': recall,\n",
    "        'f1': f1\n",
    "    }"
   ]
  },
  {
   "cell_type": "code",
   "execution_count": 206,
   "metadata": {},
   "outputs": [
    {
     "data": {
      "text/html": [
       "<pre style=\"white-space:pre;overflow-x:auto;line-height:normal;font-family:Menlo,'DejaVu Sans Mono',consolas,'Courier New',monospace\">01:58:03.077 | <span style=\"color: #d7d700; text-decoration-color: #d7d700\">WARNING</span> | py.warnings - /opt/conda/lib/python3.10/site-packages/prefect/flows.py:214: UserWarning: A flow named 'model_training_and_evaluation' and defined at '/tmp/ipykernel_1100/2663536112.py:1' conflicts with another flow. Consider specifying a unique `name` parameter in the flow definition:\n",
       "\n",
       " `@flow(name='my_unique_name', ...)`\n",
       "  warnings.warn(\n",
       "\n",
       "</pre>\n"
      ],
      "text/plain": [
       "01:58:03.077 | \u001b[38;5;184mWARNING\u001b[0m | py.warnings - /opt/conda/lib/python3.10/site-packages/prefect/flows.py:214: UserWarning: A flow named 'model_training_and_evaluation' and defined at '/tmp/ipykernel_1100/2663536112.py:1' conflicts with another flow. Consider specifying a unique `name` parameter in the flow definition:\n",
       "\n",
       " `@flow(name='my_unique_name', ...)`\n",
       "  warnings.warn(\n",
       "\n"
      ]
     },
     "metadata": {},
     "output_type": "display_data"
    }
   ],
   "source": [
    "@flow(name='model_training_and_evaluation')\n",
    "def model_training_and_evaluation(\n",
    "    X_train,\n",
    "    y_train,\n",
    "    X_test,\n",
    "    y_test,\n",
    "    **kwargs\n",
    ") -> dict:\n",
    "    \"\"\"\n",
    "    Train and evaluate the model\n",
    "    Args:\n",
    "        X_train (csr_matrix): X train data\n",
    "        y_train (csr_matrix): y train data\n",
    "        X_test (csr_matrix): X test data\n",
    "        y_test (csr_matrix): y test data\n",
    "        **kwargs: keyword arguments\n",
    "    Returns:\n",
    "        dict: dictionary containing accuracy, precision, recall and f1 score\n",
    "    \"\"\"\n",
    "\n",
    "    pipeline = model_training(X_train, y_train, **kwargs)\n",
    "    y_pred =  model_predict(X_test, pipeline)\n",
    "    evaluate = model_evaluation(y_test, y_pred)\n",
    "    return  {'evaluate': evaluate, 'pipeline': pipeline}"
   ]
  },
  {
   "cell_type": "code",
   "execution_count": 207,
   "metadata": {},
   "outputs": [
    {
     "data": {
      "text/html": [
       "<pre style=\"white-space:pre;overflow-x:auto;line-height:normal;font-family:Menlo,'DejaVu Sans Mono',consolas,'Courier New',monospace\">01:58:04.178 | <span style=\"color: #d7d700; text-decoration-color: #d7d700\">WARNING</span> | py.warnings - /opt/conda/lib/python3.10/site-packages/prefect/tasks.py:270: UserWarning: A task named 'Load' and defined at '/tmp/ipykernel_1100/3184075916.py:1' conflicts with another task. Consider specifying a unique `name` parameter in the task definition:\n",
       "\n",
       " `@task(name='my_unique_name', ...)`\n",
       "  warnings.warn(\n",
       "\n",
       "</pre>\n"
      ],
      "text/plain": [
       "01:58:04.178 | \u001b[38;5;184mWARNING\u001b[0m | py.warnings - /opt/conda/lib/python3.10/site-packages/prefect/tasks.py:270: UserWarning: A task named 'Load' and defined at '/tmp/ipykernel_1100/3184075916.py:1' conflicts with another task. Consider specifying a unique `name` parameter in the task definition:\n",
       "\n",
       " `@task(name='my_unique_name', ...)`\n",
       "  warnings.warn(\n",
       "\n"
      ]
     },
     "metadata": {},
     "output_type": "display_data"
    },
    {
     "data": {
      "text/html": [
       "<pre style=\"white-space:pre;overflow-x:auto;line-height:normal;font-family:Menlo,'DejaVu Sans Mono',consolas,'Courier New',monospace\">01:58:04.183 | <span style=\"color: #d7d700; text-decoration-color: #d7d700\">WARNING</span> | py.warnings - /opt/conda/lib/python3.10/site-packages/prefect/tasks.py:270: UserWarning: A task named 'Save' and defined at '/tmp/ipykernel_1100/3184075916.py:8' conflicts with another task. Consider specifying a unique `name` parameter in the task definition:\n",
       "\n",
       " `@task(name='my_unique_name', ...)`\n",
       "  warnings.warn(\n",
       "\n",
       "</pre>\n"
      ],
      "text/plain": [
       "01:58:04.183 | \u001b[38;5;184mWARNING\u001b[0m | py.warnings - /opt/conda/lib/python3.10/site-packages/prefect/tasks.py:270: UserWarning: A task named 'Save' and defined at '/tmp/ipykernel_1100/3184075916.py:8' conflicts with another task. Consider specifying a unique `name` parameter in the task definition:\n",
       "\n",
       " `@task(name='my_unique_name', ...)`\n",
       "  warnings.warn(\n",
       "\n"
      ]
     },
     "metadata": {},
     "output_type": "display_data"
    }
   ],
   "source": [
    "\n",
    "@task(name=\"Load\", tags=['Serialize'])\n",
    "def task_load_pickle(path: str):\n",
    "    with open(path, 'rb') as f:\n",
    "        loaded_obj = pickle.load(f)\n",
    "    return loaded_obj\n",
    "\n",
    "\n",
    "@task(name=\"Save\", tags=['Serialize'])\n",
    "def task_save_pickle(path: str, obj: dict):\n",
    "    with open(path, 'wb') as f:\n",
    "        pickle.dump(obj, f)"
   ]
  },
  {
   "cell_type": "code",
   "execution_count": 208,
   "metadata": {},
   "outputs": [
    {
     "name": "stdout",
     "output_type": "stream",
     "text": [
      "tracking URI: 'http://localhost:5000'\n"
     ]
    }
   ],
   "source": [
    "\n",
    "\n",
    "model_storage = os.path.join(local_storage, \"model\")\n",
    "model_path = os.path.join(model_storage, \"model.pkl\")\n",
    "\n",
    "\n",
    "print(f\"tracking URI: '{mlflow.get_tracking_uri()}'\")\n"
   ]
  },
  {
   "cell_type": "code",
   "execution_count": 209,
   "metadata": {},
   "outputs": [
    {
     "data": {
      "text/html": [
       "<pre style=\"white-space:pre;overflow-x:auto;line-height:normal;font-family:Menlo,'DejaVu Sans Mono',consolas,'Courier New',monospace\">01:58:16.066 | <span style=\"color: #d7d700; text-decoration-color: #d7d700\">WARNING</span> | py.warnings - /opt/conda/lib/python3.10/site-packages/prefect/flows.py:214: UserWarning: A flow named 'Model Training' and defined at '/tmp/ipykernel_1100/365037476.py:1' conflicts with another flow. Consider specifying a unique `name` parameter in the flow definition:\n",
       "\n",
       " `@flow(name='my_unique_name', ...)`\n",
       "  warnings.warn(\n",
       "\n",
       "</pre>\n"
      ],
      "text/plain": [
       "01:58:16.066 | \u001b[38;5;184mWARNING\u001b[0m | py.warnings - /opt/conda/lib/python3.10/site-packages/prefect/flows.py:214: UserWarning: A flow named 'Model Training' and defined at '/tmp/ipykernel_1100/365037476.py:1' conflicts with another flow. Consider specifying a unique `name` parameter in the flow definition:\n",
       "\n",
       " `@flow(name='my_unique_name', ...)`\n",
       "  warnings.warn(\n",
       "\n"
      ]
     },
     "metadata": {},
     "output_type": "display_data"
    }
   ],
   "source": [
    "@flow(name='Model Training')\n",
    "def train_model(\n",
    "    data_path: str, \n",
    "    local_storage: str = local_storage,\n",
    "    save_model: bool = True , \n",
    "    **kwargs\n",
    ") -> None:\n",
    "    \"\"\" \n",
    "    Train model and save model and text vectorizer\n",
    "    Args:\n",
    "        data_path (str): path to data\n",
    "        local_storage (str): path to local storage\n",
    "        save_model (bool): save model\n",
    "        **kwargs: keyword arguments, passed to preprocess_data and model_training_and_evaluation functions. \\\n",
    "            These are the arguments of the TfidfVectorizer class.\n",
    "    Returns:\n",
    "        None\n",
    "    \"\"\"\n",
    "\n",
    "    mlflow.set_tracking_uri(\"http://localhost:5000\")\n",
    "    mlflow.set_experiment(f'email_spam_lab')\n",
    "\n",
    "    with mlflow.start_run() as run:\n",
    "        run_id = run.info.run_id\n",
    "        mlflow.set_tag(\"Level\", \"Development\")\n",
    "\n",
    "        extract_data = preprocess_data(data_path, True)\n",
    "\n",
    "        X = extract_data['X']\n",
    "        y = extract_data['y']\n",
    "\n",
    "        X_train, X_test, y_train, y_test = train_test_split(X, y, test_size=0.2, random_state=42)\n",
    "\n",
    "        mlflow.log_param(\"train_set_size\", X_train.shape[0])\n",
    "        mlflow.log_param(\"test_set_size\", X_test.shape[0])\n",
    "\n",
    "        results = model_training_and_evaluation(X_train, y_train, X_test, y_test, **kwargs)\n",
    "\n",
    "        mlflow.log_metric(\"accuracy\", results['evaluate']['accuracy'])\n",
    "        mlflow.log_metric(\"precision\", results['evaluate']['precision'])\n",
    "        mlflow.log_metric(\"recall\", results['evaluate']['recall'])\n",
    "        mlflow.log_metric(\"f1\", results['evaluate']['f1'])\n",
    "\n",
    "        os.makedirs(local_storage, exist_ok=True)\n",
    "        os.makedirs(model_storage, exist_ok=True)\n",
    "\n",
    "        mlflow.sklearn.log_model(results['pipeline'], \"models\")\n",
    "        mlflow.register_model(f\"runs:/{run_id}/models\", \"email_spam_model\")\n",
    "\n",
    "        if save_model:  task_save_pickle(model_path, results['pipeline'])\n",
    "\n",
    "        return results\n",
    "\n",
    "       "
   ]
  },
  {
   "cell_type": "code",
   "execution_count": 210,
   "metadata": {},
   "outputs": [
    {
     "data": {
      "text/html": [
       "<pre style=\"white-space:pre;overflow-x:auto;line-height:normal;font-family:Menlo,'DejaVu Sans Mono',consolas,'Courier New',monospace\">01:58:17.138 | <span style=\"color: #d7d700; text-decoration-color: #d7d700\">WARNING</span> | py.warnings - /opt/conda/lib/python3.10/site-packages/prefect/flows.py:214: UserWarning: A flow named 'Batch Inference' and defined at '/tmp/ipykernel_1100/2637166875.py:1' conflicts with another flow. Consider specifying a unique `name` parameter in the flow definition:\n",
       "\n",
       " `@flow(name='my_unique_name', ...)`\n",
       "  warnings.warn(\n",
       "\n",
       "</pre>\n"
      ],
      "text/plain": [
       "01:58:17.138 | \u001b[38;5;184mWARNING\u001b[0m | py.warnings - /opt/conda/lib/python3.10/site-packages/prefect/flows.py:214: UserWarning: A flow named 'Batch Inference' and defined at '/tmp/ipykernel_1100/2637166875.py:1' conflicts with another flow. Consider specifying a unique `name` parameter in the flow definition:\n",
       "\n",
       " `@flow(name='my_unique_name', ...)`\n",
       "  warnings.warn(\n",
       "\n"
      ]
     },
     "metadata": {},
     "output_type": "display_data"
    }
   ],
   "source": [
    "@flow(name='Batch Inference')\n",
    "def batch_inference(input_path: str, model=None) :\n",
    "    \"\"\" Batch inference \"\"\"\n",
    "    if model is None: model = task_load_pickle(model_path)\n",
    "    data = preprocess_data(input_path, False)\n",
    "    return model_predict(data['X'], model)"
   ]
  },
  {
   "attachments": {},
   "cell_type": "markdown",
   "metadata": {},
   "source": [
    "## Servers for orchestration"
   ]
  },
  {
   "attachments": {},
   "cell_type": "markdown",
   "metadata": {},
   "source": [
    "Run mlflow and prefect servers the scripts in `init_mlflow.py` and `init_orion.py` respectively in two separate terminals.\n",
    "    \n",
    "    ```bash\n",
    "    python init_mlflow.py\n",
    "    ```\n",
    "\n",
    "    ```bash\n",
    "    python init_orion.py\n",
    "    ```\n",
    "    \n",
    "    \n"
   ]
  },
  {
   "attachments": {},
   "cell_type": "markdown",
   "metadata": {},
   "source": [
    "### Data validation flow"
   ]
  },
  {
   "cell_type": "code",
   "execution_count": 211,
   "metadata": {},
   "outputs": [
    {
     "data": {
      "text/html": [
       "<pre style=\"white-space:pre;overflow-x:auto;line-height:normal;font-family:Menlo,'DejaVu Sans Mono',consolas,'Courier New',monospace\">01:58:21.467 | <span style=\"color: #008080; text-decoration-color: #008080\">INFO</span>    | prefect.engine - Created flow run<span style=\"color: #800080; text-decoration-color: #800080\"> 'astonishing-nautilus'</span> for flow<span style=\"color: #800080; text-decoration-color: #800080; font-weight: bold\"> 'Data validation'</span>\n",
       "</pre>\n"
      ],
      "text/plain": [
       "01:58:21.467 | \u001b[36mINFO\u001b[0m    | prefect.engine - Created flow run\u001b[35m 'astonishing-nautilus'\u001b[0m for flow\u001b[1;35m 'Data validation'\u001b[0m\n"
      ]
     },
     "metadata": {},
     "output_type": "display_data"
    },
    {
     "data": {
      "text/html": [
       "<pre style=\"white-space:pre;overflow-x:auto;line-height:normal;font-family:Menlo,'DejaVu Sans Mono',consolas,'Courier New',monospace\">01:58:21.707 | <span style=\"color: #008080; text-decoration-color: #008080\">INFO</span>    | Flow run<span style=\"color: #800080; text-decoration-color: #800080\"> 'astonishing-nautilus'</span> - Created task run 'run_checkpoint_validation-0' for task 'run_checkpoint_validation'\n",
       "</pre>\n"
      ],
      "text/plain": [
       "01:58:21.707 | \u001b[36mINFO\u001b[0m    | Flow run\u001b[35m 'astonishing-nautilus'\u001b[0m - Created task run 'run_checkpoint_validation-0' for task 'run_checkpoint_validation'\n"
      ]
     },
     "metadata": {},
     "output_type": "display_data"
    },
    {
     "data": {
      "text/html": [
       "<pre style=\"white-space:pre;overflow-x:auto;line-height:normal;font-family:Menlo,'DejaVu Sans Mono',consolas,'Courier New',monospace\">01:58:21.709 | <span style=\"color: #008080; text-decoration-color: #008080\">INFO</span>    | Flow run<span style=\"color: #800080; text-decoration-color: #800080\"> 'astonishing-nautilus'</span> - Executing 'run_checkpoint_validation-0' immediately...\n",
       "</pre>\n"
      ],
      "text/plain": [
       "01:58:21.709 | \u001b[36mINFO\u001b[0m    | Flow run\u001b[35m 'astonishing-nautilus'\u001b[0m - Executing 'run_checkpoint_validation-0' immediately...\n"
      ]
     },
     "metadata": {},
     "output_type": "display_data"
    },
    {
     "data": {
      "text/html": [
       "<pre style=\"white-space:pre;overflow-x:auto;line-height:normal;font-family:Menlo,'DejaVu Sans Mono',consolas,'Courier New',monospace\">01:58:21.815 | <span style=\"color: #008080; text-decoration-color: #008080\">INFO</span>    | Task run 'run_checkpoint_validation-0' - Running Great Expectations validation...\n",
       "</pre>\n"
      ],
      "text/plain": [
       "01:58:21.815 | \u001b[36mINFO\u001b[0m    | Task run 'run_checkpoint_validation-0' - Running Great Expectations validation...\n"
      ]
     },
     "metadata": {},
     "output_type": "display_data"
    },
    {
     "data": {
      "application/vnd.jupyter.widget-view+json": {
       "model_id": "ec6c936b78684bec8272a731fcd715e8",
       "version_major": 2,
       "version_minor": 0
      },
      "text/plain": [
       "Calculating Metrics:   0%|          | 0/47 [00:00<?, ?it/s]"
      ]
     },
     "metadata": {},
     "output_type": "display_data"
    },
    {
     "data": {
      "text/html": [
       "<pre style=\"white-space:pre;overflow-x:auto;line-height:normal;font-family:Menlo,'DejaVu Sans Mono',consolas,'Courier New',monospace\">01:58:32.048 | <span style=\"color: #008080; text-decoration-color: #008080\">INFO</span>    | Task run 'run_checkpoint_validation-0' - Great Expectations validation run 20230321-015822-my-run-name-template succeeded\n",
       "</pre>\n"
      ],
      "text/plain": [
       "01:58:32.048 | \u001b[36mINFO\u001b[0m    | Task run 'run_checkpoint_validation-0' - Great Expectations validation run 20230321-015822-my-run-name-template succeeded\n"
      ]
     },
     "metadata": {},
     "output_type": "display_data"
    },
    {
     "data": {
      "text/html": [
       "<pre style=\"white-space:pre;overflow-x:auto;line-height:normal;font-family:Menlo,'DejaVu Sans Mono',consolas,'Courier New',monospace\">01:58:32.251 | <span style=\"color: #008080; text-decoration-color: #008080\">INFO</span>    | Task run 'run_checkpoint_validation-0' - Finished in state <span style=\"color: #008000; text-decoration-color: #008000\">Completed</span>()\n",
       "</pre>\n"
      ],
      "text/plain": [
       "01:58:32.251 | \u001b[36mINFO\u001b[0m    | Task run 'run_checkpoint_validation-0' - Finished in state \u001b[32mCompleted\u001b[0m()\n"
      ]
     },
     "metadata": {},
     "output_type": "display_data"
    },
    {
     "data": {
      "text/html": [
       "<pre style=\"white-space:pre;overflow-x:auto;line-height:normal;font-family:Menlo,'DejaVu Sans Mono',consolas,'Courier New',monospace\">01:58:32.454 | <span style=\"color: #008080; text-decoration-color: #008080\">INFO</span>    | Flow run<span style=\"color: #800080; text-decoration-color: #800080\"> 'astonishing-nautilus'</span> - Finished in state <span style=\"color: #008000; text-decoration-color: #008000\">Completed</span>('All states completed.')\n",
       "</pre>\n"
      ],
      "text/plain": [
       "01:58:32.454 | \u001b[36mINFO\u001b[0m    | Flow run\u001b[35m 'astonishing-nautilus'\u001b[0m - Finished in state \u001b[32mCompleted\u001b[0m('All states completed.')\n"
      ]
     },
     "metadata": {},
     "output_type": "display_data"
    },
    {
     "data": {
      "text/plain": [
       "[Completed(message=None, type=COMPLETED, result=UnpersistedResult(type='unpersisted', artifact_type='result', artifact_description='Unpersisted result of type `CheckpointResult`'))]"
      ]
     },
     "execution_count": 211,
     "metadata": {},
     "output_type": "execute_result"
    }
   ],
   "source": [
    "data_validation(\"lab_checkpoint\")"
   ]
  },
  {
   "cell_type": "code",
   "execution_count": 212,
   "metadata": {},
   "outputs": [
    {
     "data": {
      "text/plain": [
       "'data/spam_emails_1.csv'"
      ]
     },
     "execution_count": 212,
     "metadata": {},
     "output_type": "execute_result"
    }
   ],
   "source": [
    "output"
   ]
  },
  {
   "cell_type": "code",
   "execution_count": 216,
   "metadata": {},
   "outputs": [
    {
     "data": {
      "text/html": [
       "<pre style=\"white-space:pre;overflow-x:auto;line-height:normal;font-family:Menlo,'DejaVu Sans Mono',consolas,'Courier New',monospace\">02:01:56.353 | <span style=\"color: #008080; text-decoration-color: #008080\">INFO</span>    | prefect.engine - Created flow run<span style=\"color: #800080; text-decoration-color: #800080\"> 'violet-rhino'</span> for flow<span style=\"color: #800080; text-decoration-color: #800080; font-weight: bold\"> 'Model Training'</span>\n",
       "</pre>\n"
      ],
      "text/plain": [
       "02:01:56.353 | \u001b[36mINFO\u001b[0m    | prefect.engine - Created flow run\u001b[35m 'violet-rhino'\u001b[0m for flow\u001b[1;35m 'Model Training'\u001b[0m\n"
      ]
     },
     "metadata": {},
     "output_type": "display_data"
    },
    {
     "data": {
      "text/html": [
       "<pre style=\"white-space:pre;overflow-x:auto;line-height:normal;font-family:Menlo,'DejaVu Sans Mono',consolas,'Courier New',monospace\">02:01:59.122 | <span style=\"color: #d7d700; text-decoration-color: #d7d700\">WARNING</span> | py.warnings - /opt/conda/lib/python3.10/site-packages/prefect/tasks.py:270: UserWarning: A task named 'Data processing' and defined at '/tmp/ipykernel_1100/1809663541.py:19' conflicts with another task. Consider specifying a unique `name` parameter in the task definition:\n",
       "\n",
       " `@task(name='my_unique_name', ...)`\n",
       "  warnings.warn(\n",
       "\n",
       "</pre>\n"
      ],
      "text/plain": [
       "02:01:59.122 | \u001b[38;5;184mWARNING\u001b[0m | py.warnings - /opt/conda/lib/python3.10/site-packages/prefect/tasks.py:270: UserWarning: A task named 'Data processing' and defined at '/tmp/ipykernel_1100/1809663541.py:19' conflicts with another task. Consider specifying a unique `name` parameter in the task definition:\n",
       "\n",
       " `@task(name='my_unique_name', ...)`\n",
       "  warnings.warn(\n",
       "\n"
      ]
     },
     "metadata": {},
     "output_type": "display_data"
    },
    {
     "data": {
      "text/html": [
       "<pre style=\"white-space:pre;overflow-x:auto;line-height:normal;font-family:Menlo,'DejaVu Sans Mono',consolas,'Courier New',monospace\">02:01:59.351 | <span style=\"color: #008080; text-decoration-color: #008080\">INFO</span>    | Flow run<span style=\"color: #800080; text-decoration-color: #800080\"> 'violet-rhino'</span> - Created subflow run<span style=\"color: #800080; text-decoration-color: #800080\"> 'daft-kagu'</span> for flow<span style=\"color: #800080; text-decoration-color: #800080; font-weight: bold\"> 'Data processing'</span>\n",
       "</pre>\n"
      ],
      "text/plain": [
       "02:01:59.351 | \u001b[36mINFO\u001b[0m    | Flow run\u001b[35m 'violet-rhino'\u001b[0m - Created subflow run\u001b[35m 'daft-kagu'\u001b[0m for flow\u001b[1;35m 'Data processing'\u001b[0m\n"
      ]
     },
     "metadata": {},
     "output_type": "display_data"
    },
    {
     "name": "stderr",
     "output_type": "stream",
     "text": [
      "[nltk_data] Downloading package stopwords to /home/jovyan/nltk_data...\n",
      "[nltk_data]   Package stopwords is already up-to-date!\n",
      "[nltk_data] Downloading package wordnet to /home/jovyan/nltk_data...\n",
      "[nltk_data]   Package wordnet is already up-to-date!\n"
     ]
    },
    {
     "data": {
      "text/html": [
       "<pre style=\"white-space:pre;overflow-x:auto;line-height:normal;font-family:Menlo,'DejaVu Sans Mono',consolas,'Courier New',monospace\">02:01:59.766 | <span style=\"color: #008080; text-decoration-color: #008080\">INFO</span>    | Flow run<span style=\"color: #800080; text-decoration-color: #800080\"> 'daft-kagu'</span> - Created task run 'drop_columns-0' for task 'drop_columns'\n",
       "</pre>\n"
      ],
      "text/plain": [
       "02:01:59.766 | \u001b[36mINFO\u001b[0m    | Flow run\u001b[35m 'daft-kagu'\u001b[0m - Created task run 'drop_columns-0' for task 'drop_columns'\n"
      ]
     },
     "metadata": {},
     "output_type": "display_data"
    },
    {
     "data": {
      "text/html": [
       "<pre style=\"white-space:pre;overflow-x:auto;line-height:normal;font-family:Menlo,'DejaVu Sans Mono',consolas,'Courier New',monospace\">02:01:59.771 | <span style=\"color: #008080; text-decoration-color: #008080\">INFO</span>    | Flow run<span style=\"color: #800080; text-decoration-color: #800080\"> 'daft-kagu'</span> - Executing 'drop_columns-0' immediately...\n",
       "</pre>\n"
      ],
      "text/plain": [
       "02:01:59.771 | \u001b[36mINFO\u001b[0m    | Flow run\u001b[35m 'daft-kagu'\u001b[0m - Executing 'drop_columns-0' immediately...\n"
      ]
     },
     "metadata": {},
     "output_type": "display_data"
    },
    {
     "data": {
      "text/html": [
       "<pre style=\"white-space:pre;overflow-x:auto;line-height:normal;font-family:Menlo,'DejaVu Sans Mono',consolas,'Courier New',monospace\">02:01:59.969 | <span style=\"color: #008080; text-decoration-color: #008080\">INFO</span>    | Task run 'drop_columns-0' - Finished in state <span style=\"color: #008000; text-decoration-color: #008000\">Completed</span>()\n",
       "</pre>\n"
      ],
      "text/plain": [
       "02:01:59.969 | \u001b[36mINFO\u001b[0m    | Task run 'drop_columns-0' - Finished in state \u001b[32mCompleted\u001b[0m()\n"
      ]
     },
     "metadata": {},
     "output_type": "display_data"
    },
    {
     "data": {
      "text/html": [
       "<pre style=\"white-space:pre;overflow-x:auto;line-height:normal;font-family:Menlo,'DejaVu Sans Mono',consolas,'Courier New',monospace\">02:02:00.053 | <span style=\"color: #008080; text-decoration-color: #008080\">INFO</span>    | Flow run<span style=\"color: #800080; text-decoration-color: #800080\"> 'daft-kagu'</span> - Created task run 'preprocess_text-0' for task 'preprocess_text'\n",
       "</pre>\n"
      ],
      "text/plain": [
       "02:02:00.053 | \u001b[36mINFO\u001b[0m    | Flow run\u001b[35m 'daft-kagu'\u001b[0m - Created task run 'preprocess_text-0' for task 'preprocess_text'\n"
      ]
     },
     "metadata": {},
     "output_type": "display_data"
    },
    {
     "data": {
      "text/html": [
       "<pre style=\"white-space:pre;overflow-x:auto;line-height:normal;font-family:Menlo,'DejaVu Sans Mono',consolas,'Courier New',monospace\">02:02:00.057 | <span style=\"color: #008080; text-decoration-color: #008080\">INFO</span>    | Flow run<span style=\"color: #800080; text-decoration-color: #800080\"> 'daft-kagu'</span> - Executing 'preprocess_text-0' immediately...\n",
       "</pre>\n"
      ],
      "text/plain": [
       "02:02:00.057 | \u001b[36mINFO\u001b[0m    | Flow run\u001b[35m 'daft-kagu'\u001b[0m - Executing 'preprocess_text-0' immediately...\n"
      ]
     },
     "metadata": {},
     "output_type": "display_data"
    },
    {
     "data": {
      "text/html": [
       "<pre style=\"white-space:pre;overflow-x:auto;line-height:normal;font-family:Menlo,'DejaVu Sans Mono',consolas,'Courier New',monospace\">02:02:00.208 | <span style=\"color: #d7d700; text-decoration-color: #d7d700\">WARNING</span> | py.warnings - /tmp/ipykernel_1100/2922993904.py:10: FutureWarning: The default value of regex will change from True to False in a future version.\n",
       "  df['text'] = df['text'].str.replace(r'[^\\w\\s]', '')\n",
       "\n",
       "</pre>\n"
      ],
      "text/plain": [
       "02:02:00.208 | \u001b[38;5;184mWARNING\u001b[0m | py.warnings - /tmp/ipykernel_1100/2922993904.py:10: FutureWarning: The default value of regex will change from True to False in a future version.\n",
       "  df['text'] = df['text'].str.replace(r'[^\\w\\s]', '')\n",
       "\n"
      ]
     },
     "metadata": {},
     "output_type": "display_data"
    },
    {
     "data": {
      "text/html": [
       "<pre style=\"white-space:pre;overflow-x:auto;line-height:normal;font-family:Menlo,'DejaVu Sans Mono',consolas,'Courier New',monospace\">02:02:09.707 | <span style=\"color: #008080; text-decoration-color: #008080\">INFO</span>    | Task run 'preprocess_text-0' - Finished in state <span style=\"color: #008000; text-decoration-color: #008000\">Completed</span>()\n",
       "</pre>\n"
      ],
      "text/plain": [
       "02:02:09.707 | \u001b[36mINFO\u001b[0m    | Task run 'preprocess_text-0' - Finished in state \u001b[32mCompleted\u001b[0m()\n"
      ]
     },
     "metadata": {},
     "output_type": "display_data"
    },
    {
     "data": {
      "text/html": [
       "<pre style=\"white-space:pre;overflow-x:auto;line-height:normal;font-family:Menlo,'DejaVu Sans Mono',consolas,'Courier New',monospace\">02:02:09.793 | <span style=\"color: #008080; text-decoration-color: #008080\">INFO</span>    | Flow run<span style=\"color: #800080; text-decoration-color: #800080\"> 'daft-kagu'</span> - Created task run 'save_label_encoder-0' for task 'save_label_encoder'\n",
       "</pre>\n"
      ],
      "text/plain": [
       "02:02:09.793 | \u001b[36mINFO\u001b[0m    | Flow run\u001b[35m 'daft-kagu'\u001b[0m - Created task run 'save_label_encoder-0' for task 'save_label_encoder'\n"
      ]
     },
     "metadata": {},
     "output_type": "display_data"
    },
    {
     "data": {
      "text/html": [
       "<pre style=\"white-space:pre;overflow-x:auto;line-height:normal;font-family:Menlo,'DejaVu Sans Mono',consolas,'Courier New',monospace\">02:02:09.796 | <span style=\"color: #008080; text-decoration-color: #008080\">INFO</span>    | Flow run<span style=\"color: #800080; text-decoration-color: #800080\"> 'daft-kagu'</span> - Executing 'save_label_encoder-0' immediately...\n",
       "</pre>\n"
      ],
      "text/plain": [
       "02:02:09.796 | \u001b[36mINFO\u001b[0m    | Flow run\u001b[35m 'daft-kagu'\u001b[0m - Executing 'save_label_encoder-0' immediately...\n"
      ]
     },
     "metadata": {},
     "output_type": "display_data"
    },
    {
     "data": {
      "text/html": [
       "<pre style=\"white-space:pre;overflow-x:auto;line-height:normal;font-family:Menlo,'DejaVu Sans Mono',consolas,'Courier New',monospace\">02:02:10.032 | <span style=\"color: #008080; text-decoration-color: #008080\">INFO</span>    | Task run 'save_label_encoder-0' - Finished in state <span style=\"color: #008000; text-decoration-color: #008000\">Completed</span>()\n",
       "</pre>\n"
      ],
      "text/plain": [
       "02:02:10.032 | \u001b[36mINFO\u001b[0m    | Task run 'save_label_encoder-0' - Finished in state \u001b[32mCompleted\u001b[0m()\n"
      ]
     },
     "metadata": {},
     "output_type": "display_data"
    },
    {
     "data": {
      "text/html": [
       "<pre style=\"white-space:pre;overflow-x:auto;line-height:normal;font-family:Menlo,'DejaVu Sans Mono',consolas,'Courier New',monospace\">02:02:10.094 | <span style=\"color: #008080; text-decoration-color: #008080\">INFO</span>    | Flow run<span style=\"color: #800080; text-decoration-color: #800080\"> 'daft-kagu'</span> - Created task run 'extract_x_y-0' for task 'extract_x_y'\n",
       "</pre>\n"
      ],
      "text/plain": [
       "02:02:10.094 | \u001b[36mINFO\u001b[0m    | Flow run\u001b[35m 'daft-kagu'\u001b[0m - Created task run 'extract_x_y-0' for task 'extract_x_y'\n"
      ]
     },
     "metadata": {},
     "output_type": "display_data"
    },
    {
     "data": {
      "text/html": [
       "<pre style=\"white-space:pre;overflow-x:auto;line-height:normal;font-family:Menlo,'DejaVu Sans Mono',consolas,'Courier New',monospace\">02:02:10.098 | <span style=\"color: #008080; text-decoration-color: #008080\">INFO</span>    | Flow run<span style=\"color: #800080; text-decoration-color: #800080\"> 'daft-kagu'</span> - Executing 'extract_x_y-0' immediately...\n",
       "</pre>\n"
      ],
      "text/plain": [
       "02:02:10.098 | \u001b[36mINFO\u001b[0m    | Flow run\u001b[35m 'daft-kagu'\u001b[0m - Executing 'extract_x_y-0' immediately...\n"
      ]
     },
     "metadata": {},
     "output_type": "display_data"
    },
    {
     "data": {
      "text/html": [
       "<pre style=\"white-space:pre;overflow-x:auto;line-height:normal;font-family:Menlo,'DejaVu Sans Mono',consolas,'Courier New',monospace\">02:02:10.281 | <span style=\"color: #008080; text-decoration-color: #008080\">INFO</span>    | Task run 'extract_x_y-0' - Finished in state <span style=\"color: #008000; text-decoration-color: #008000\">Completed</span>()\n",
       "</pre>\n"
      ],
      "text/plain": [
       "02:02:10.281 | \u001b[36mINFO\u001b[0m    | Task run 'extract_x_y-0' - Finished in state \u001b[32mCompleted\u001b[0m()\n"
      ]
     },
     "metadata": {},
     "output_type": "display_data"
    },
    {
     "data": {
      "text/html": [
       "<pre style=\"white-space:pre;overflow-x:auto;line-height:normal;font-family:Menlo,'DejaVu Sans Mono',consolas,'Courier New',monospace\">02:02:10.417 | <span style=\"color: #008080; text-decoration-color: #008080\">INFO</span>    | Flow run<span style=\"color: #800080; text-decoration-color: #800080\"> 'daft-kagu'</span> - Finished in state <span style=\"color: #008000; text-decoration-color: #008000\">Completed</span>()\n",
       "</pre>\n"
      ],
      "text/plain": [
       "02:02:10.417 | \u001b[36mINFO\u001b[0m    | Flow run\u001b[35m 'daft-kagu'\u001b[0m - Finished in state \u001b[32mCompleted\u001b[0m()\n"
      ]
     },
     "metadata": {},
     "output_type": "display_data"
    },
    {
     "data": {
      "text/html": [
       "<pre style=\"white-space:pre;overflow-x:auto;line-height:normal;font-family:Menlo,'DejaVu Sans Mono',consolas,'Courier New',monospace\">02:02:11.173 | <span style=\"color: #d7d700; text-decoration-color: #d7d700\">WARNING</span> | py.warnings - /opt/conda/lib/python3.10/site-packages/prefect/tasks.py:270: UserWarning: A task named 'model_training_and_evaluation' and defined at '/tmp/ipykernel_1100/2663536112.py:1' conflicts with another task. Consider specifying a unique `name` parameter in the task definition:\n",
       "\n",
       " `@task(name='my_unique_name', ...)`\n",
       "  warnings.warn(\n",
       "\n",
       "</pre>\n"
      ],
      "text/plain": [
       "02:02:11.173 | \u001b[38;5;184mWARNING\u001b[0m | py.warnings - /opt/conda/lib/python3.10/site-packages/prefect/tasks.py:270: UserWarning: A task named 'model_training_and_evaluation' and defined at '/tmp/ipykernel_1100/2663536112.py:1' conflicts with another task. Consider specifying a unique `name` parameter in the task definition:\n",
       "\n",
       " `@task(name='my_unique_name', ...)`\n",
       "  warnings.warn(\n",
       "\n"
      ]
     },
     "metadata": {},
     "output_type": "display_data"
    },
    {
     "data": {
      "text/html": [
       "<pre style=\"white-space:pre;overflow-x:auto;line-height:normal;font-family:Menlo,'DejaVu Sans Mono',consolas,'Courier New',monospace\">02:02:11.882 | <span style=\"color: #008080; text-decoration-color: #008080\">INFO</span>    | Flow run<span style=\"color: #800080; text-decoration-color: #800080\"> 'violet-rhino'</span> - Created subflow run<span style=\"color: #800080; text-decoration-color: #800080\"> 'cryptic-pegasus'</span> for flow<span style=\"color: #800080; text-decoration-color: #800080; font-weight: bold\"> 'model_training_and_evaluation'</span>\n",
       "</pre>\n"
      ],
      "text/plain": [
       "02:02:11.882 | \u001b[36mINFO\u001b[0m    | Flow run\u001b[35m 'violet-rhino'\u001b[0m - Created subflow run\u001b[35m 'cryptic-pegasus'\u001b[0m for flow\u001b[1;35m 'model_training_and_evaluation'\u001b[0m\n"
      ]
     },
     "metadata": {},
     "output_type": "display_data"
    },
    {
     "data": {
      "text/html": [
       "<pre style=\"white-space:pre;overflow-x:auto;line-height:normal;font-family:Menlo,'DejaVu Sans Mono',consolas,'Courier New',monospace\">02:02:12.402 | <span style=\"color: #008080; text-decoration-color: #008080\">INFO</span>    | Flow run<span style=\"color: #800080; text-decoration-color: #800080\"> 'cryptic-pegasus'</span> - Created task run 'model_training-0' for task 'model_training'\n",
       "</pre>\n"
      ],
      "text/plain": [
       "02:02:12.402 | \u001b[36mINFO\u001b[0m    | Flow run\u001b[35m 'cryptic-pegasus'\u001b[0m - Created task run 'model_training-0' for task 'model_training'\n"
      ]
     },
     "metadata": {},
     "output_type": "display_data"
    },
    {
     "data": {
      "text/html": [
       "<pre style=\"white-space:pre;overflow-x:auto;line-height:normal;font-family:Menlo,'DejaVu Sans Mono',consolas,'Courier New',monospace\">02:02:12.406 | <span style=\"color: #008080; text-decoration-color: #008080\">INFO</span>    | Flow run<span style=\"color: #800080; text-decoration-color: #800080\"> 'cryptic-pegasus'</span> - Executing 'model_training-0' immediately...\n",
       "</pre>\n"
      ],
      "text/plain": [
       "02:02:12.406 | \u001b[36mINFO\u001b[0m    | Flow run\u001b[35m 'cryptic-pegasus'\u001b[0m - Executing 'model_training-0' immediately...\n"
      ]
     },
     "metadata": {},
     "output_type": "display_data"
    },
    {
     "data": {
      "text/html": [
       "<pre style=\"white-space:pre;overflow-x:auto;line-height:normal;font-family:Menlo,'DejaVu Sans Mono',consolas,'Courier New',monospace\">02:02:14.778 | <span style=\"color: #008080; text-decoration-color: #008080\">INFO</span>    | Task run 'model_training-0' - Finished in state <span style=\"color: #008000; text-decoration-color: #008000\">Completed</span>()\n",
       "</pre>\n"
      ],
      "text/plain": [
       "02:02:14.778 | \u001b[36mINFO\u001b[0m    | Task run 'model_training-0' - Finished in state \u001b[32mCompleted\u001b[0m()\n"
      ]
     },
     "metadata": {},
     "output_type": "display_data"
    },
    {
     "data": {
      "text/html": [
       "<pre style=\"white-space:pre;overflow-x:auto;line-height:normal;font-family:Menlo,'DejaVu Sans Mono',consolas,'Courier New',monospace\">02:02:14.830 | <span style=\"color: #008080; text-decoration-color: #008080\">INFO</span>    | Flow run<span style=\"color: #800080; text-decoration-color: #800080\"> 'cryptic-pegasus'</span> - Created task run 'model_predict-0' for task 'model_predict'\n",
       "</pre>\n"
      ],
      "text/plain": [
       "02:02:14.830 | \u001b[36mINFO\u001b[0m    | Flow run\u001b[35m 'cryptic-pegasus'\u001b[0m - Created task run 'model_predict-0' for task 'model_predict'\n"
      ]
     },
     "metadata": {},
     "output_type": "display_data"
    },
    {
     "data": {
      "text/html": [
       "<pre style=\"white-space:pre;overflow-x:auto;line-height:normal;font-family:Menlo,'DejaVu Sans Mono',consolas,'Courier New',monospace\">02:02:14.832 | <span style=\"color: #008080; text-decoration-color: #008080\">INFO</span>    | Flow run<span style=\"color: #800080; text-decoration-color: #800080\"> 'cryptic-pegasus'</span> - Executing 'model_predict-0' immediately...\n",
       "</pre>\n"
      ],
      "text/plain": [
       "02:02:14.832 | \u001b[36mINFO\u001b[0m    | Flow run\u001b[35m 'cryptic-pegasus'\u001b[0m - Executing 'model_predict-0' immediately...\n"
      ]
     },
     "metadata": {},
     "output_type": "display_data"
    },
    {
     "data": {
      "text/html": [
       "<pre style=\"white-space:pre;overflow-x:auto;line-height:normal;font-family:Menlo,'DejaVu Sans Mono',consolas,'Courier New',monospace\">02:02:15.265 | <span style=\"color: #008080; text-decoration-color: #008080\">INFO</span>    | Task run 'model_predict-0' - Finished in state <span style=\"color: #008000; text-decoration-color: #008000\">Completed</span>()\n",
       "</pre>\n"
      ],
      "text/plain": [
       "02:02:15.265 | \u001b[36mINFO\u001b[0m    | Task run 'model_predict-0' - Finished in state \u001b[32mCompleted\u001b[0m()\n"
      ]
     },
     "metadata": {},
     "output_type": "display_data"
    },
    {
     "data": {
      "text/html": [
       "<pre style=\"white-space:pre;overflow-x:auto;line-height:normal;font-family:Menlo,'DejaVu Sans Mono',consolas,'Courier New',monospace\">02:02:15.322 | <span style=\"color: #008080; text-decoration-color: #008080\">INFO</span>    | Flow run<span style=\"color: #800080; text-decoration-color: #800080\"> 'cryptic-pegasus'</span> - Created task run 'model_evaluation-0' for task 'model_evaluation'\n",
       "</pre>\n"
      ],
      "text/plain": [
       "02:02:15.322 | \u001b[36mINFO\u001b[0m    | Flow run\u001b[35m 'cryptic-pegasus'\u001b[0m - Created task run 'model_evaluation-0' for task 'model_evaluation'\n"
      ]
     },
     "metadata": {},
     "output_type": "display_data"
    },
    {
     "data": {
      "text/html": [
       "<pre style=\"white-space:pre;overflow-x:auto;line-height:normal;font-family:Menlo,'DejaVu Sans Mono',consolas,'Courier New',monospace\">02:02:15.328 | <span style=\"color: #008080; text-decoration-color: #008080\">INFO</span>    | Flow run<span style=\"color: #800080; text-decoration-color: #800080\"> 'cryptic-pegasus'</span> - Executing 'model_evaluation-0' immediately...\n",
       "</pre>\n"
      ],
      "text/plain": [
       "02:02:15.328 | \u001b[36mINFO\u001b[0m    | Flow run\u001b[35m 'cryptic-pegasus'\u001b[0m - Executing 'model_evaluation-0' immediately...\n"
      ]
     },
     "metadata": {},
     "output_type": "display_data"
    },
    {
     "data": {
      "text/html": [
       "<pre style=\"white-space:pre;overflow-x:auto;line-height:normal;font-family:Menlo,'DejaVu Sans Mono',consolas,'Courier New',monospace\">02:02:15.583 | <span style=\"color: #008080; text-decoration-color: #008080\">INFO</span>    | Task run 'model_evaluation-0' - Finished in state <span style=\"color: #008000; text-decoration-color: #008000\">Completed</span>()\n",
       "</pre>\n"
      ],
      "text/plain": [
       "02:02:15.583 | \u001b[36mINFO\u001b[0m    | Task run 'model_evaluation-0' - Finished in state \u001b[32mCompleted\u001b[0m()\n"
      ]
     },
     "metadata": {},
     "output_type": "display_data"
    },
    {
     "data": {
      "text/html": [
       "<pre style=\"white-space:pre;overflow-x:auto;line-height:normal;font-family:Menlo,'DejaVu Sans Mono',consolas,'Courier New',monospace\">02:02:15.772 | <span style=\"color: #008080; text-decoration-color: #008080\">INFO</span>    | Flow run<span style=\"color: #800080; text-decoration-color: #800080\"> 'cryptic-pegasus'</span> - Finished in state <span style=\"color: #008000; text-decoration-color: #008000\">Completed</span>()\n",
       "</pre>\n"
      ],
      "text/plain": [
       "02:02:15.772 | \u001b[36mINFO\u001b[0m    | Flow run\u001b[35m 'cryptic-pegasus'\u001b[0m - Finished in state \u001b[32mCompleted\u001b[0m()\n"
      ]
     },
     "metadata": {},
     "output_type": "display_data"
    },
    {
     "name": "stderr",
     "output_type": "stream",
     "text": [
      "Registered model 'email_spam_model' already exists. Creating a new version of this model...\n",
      "2023/03/21 02:02:27 INFO mlflow.tracking._model_registry.client: Waiting up to 300 seconds for model version to finish creation.                     Model name: email_spam_model, version 5\n",
      "Created version '5' of model 'email_spam_model'.\n"
     ]
    },
    {
     "data": {
      "text/html": [
       "<pre style=\"white-space:pre;overflow-x:auto;line-height:normal;font-family:Menlo,'DejaVu Sans Mono',consolas,'Courier New',monospace\">02:02:28.368 | <span style=\"color: #008080; text-decoration-color: #008080\">INFO</span>    | Flow run<span style=\"color: #800080; text-decoration-color: #800080\"> 'violet-rhino'</span> - Finished in state <span style=\"color: #008000; text-decoration-color: #008000\">Completed</span>()\n",
       "</pre>\n"
      ],
      "text/plain": [
       "02:02:28.368 | \u001b[36mINFO\u001b[0m    | Flow run\u001b[35m 'violet-rhino'\u001b[0m - Finished in state \u001b[32mCompleted\u001b[0m()\n"
      ]
     },
     "metadata": {},
     "output_type": "display_data"
    },
    {
     "data": {
      "text/plain": [
       "{'evaluate': {'accuracy': 0.957487922705314,\n",
       "  'precision': 0.8952380952380953,\n",
       "  'recall': 0.962457337883959,\n",
       "  'f1': 0.9276315789473685},\n",
       " 'pipeline': Pipeline(steps=[('tfidf',\n",
       "                  TfidfVectorizer(max_features=1000, ngram_range=(1, 2),\n",
       "                                  stop_words='english')),\n",
       "                 ('clf', MultinomialNB(alpha=0.01))])}"
      ]
     },
     "execution_count": 216,
     "metadata": {},
     "output_type": "execute_result"
    }
   ],
   "source": [
    "train_model(output, save_model=False , max_features=1000, ngram_range=(1, 2), use_idf=True, analyser='word', stop_words='english')"
   ]
  },
  {
   "cell_type": "code",
   "execution_count": 217,
   "metadata": {},
   "outputs": [
    {
     "data": {
      "text/html": [
       "<pre style=\"white-space:pre;overflow-x:auto;line-height:normal;font-family:Menlo,'DejaVu Sans Mono',consolas,'Courier New',monospace\">02:02:39.511 | <span style=\"color: #008080; text-decoration-color: #008080\">INFO</span>    | prefect.engine - Created flow run<span style=\"color: #800080; text-decoration-color: #800080\"> 'glaring-coyote'</span> for flow<span style=\"color: #800080; text-decoration-color: #800080; font-weight: bold\"> 'Model Training'</span>\n",
       "</pre>\n"
      ],
      "text/plain": [
       "02:02:39.511 | \u001b[36mINFO\u001b[0m    | prefect.engine - Created flow run\u001b[35m 'glaring-coyote'\u001b[0m for flow\u001b[1;35m 'Model Training'\u001b[0m\n"
      ]
     },
     "metadata": {},
     "output_type": "display_data"
    },
    {
     "data": {
      "text/html": [
       "<pre style=\"white-space:pre;overflow-x:auto;line-height:normal;font-family:Menlo,'DejaVu Sans Mono',consolas,'Courier New',monospace\">02:02:42.267 | <span style=\"color: #d7d700; text-decoration-color: #d7d700\">WARNING</span> | py.warnings - /opt/conda/lib/python3.10/site-packages/prefect/tasks.py:270: UserWarning: A task named 'Data processing' and defined at '/tmp/ipykernel_1100/1809663541.py:19' conflicts with another task. Consider specifying a unique `name` parameter in the task definition:\n",
       "\n",
       " `@task(name='my_unique_name', ...)`\n",
       "  warnings.warn(\n",
       "\n",
       "</pre>\n"
      ],
      "text/plain": [
       "02:02:42.267 | \u001b[38;5;184mWARNING\u001b[0m | py.warnings - /opt/conda/lib/python3.10/site-packages/prefect/tasks.py:270: UserWarning: A task named 'Data processing' and defined at '/tmp/ipykernel_1100/1809663541.py:19' conflicts with another task. Consider specifying a unique `name` parameter in the task definition:\n",
       "\n",
       " `@task(name='my_unique_name', ...)`\n",
       "  warnings.warn(\n",
       "\n"
      ]
     },
     "metadata": {},
     "output_type": "display_data"
    },
    {
     "data": {
      "text/html": [
       "<pre style=\"white-space:pre;overflow-x:auto;line-height:normal;font-family:Menlo,'DejaVu Sans Mono',consolas,'Courier New',monospace\">02:02:42.463 | <span style=\"color: #008080; text-decoration-color: #008080\">INFO</span>    | Flow run<span style=\"color: #800080; text-decoration-color: #800080\"> 'glaring-coyote'</span> - Created subflow run<span style=\"color: #800080; text-decoration-color: #800080\"> 'strange-junglefowl'</span> for flow<span style=\"color: #800080; text-decoration-color: #800080; font-weight: bold\"> 'Data processing'</span>\n",
       "</pre>\n"
      ],
      "text/plain": [
       "02:02:42.463 | \u001b[36mINFO\u001b[0m    | Flow run\u001b[35m 'glaring-coyote'\u001b[0m - Created subflow run\u001b[35m 'strange-junglefowl'\u001b[0m for flow\u001b[1;35m 'Data processing'\u001b[0m\n"
      ]
     },
     "metadata": {},
     "output_type": "display_data"
    },
    {
     "name": "stderr",
     "output_type": "stream",
     "text": [
      "[nltk_data] Downloading package stopwords to /home/jovyan/nltk_data...\n",
      "[nltk_data]   Package stopwords is already up-to-date!\n",
      "[nltk_data] Downloading package wordnet to /home/jovyan/nltk_data...\n",
      "[nltk_data]   Package wordnet is already up-to-date!\n"
     ]
    },
    {
     "data": {
      "text/html": [
       "<pre style=\"white-space:pre;overflow-x:auto;line-height:normal;font-family:Menlo,'DejaVu Sans Mono',consolas,'Courier New',monospace\">02:02:42.823 | <span style=\"color: #008080; text-decoration-color: #008080\">INFO</span>    | Flow run<span style=\"color: #800080; text-decoration-color: #800080\"> 'strange-junglefowl'</span> - Created task run 'drop_columns-0' for task 'drop_columns'\n",
       "</pre>\n"
      ],
      "text/plain": [
       "02:02:42.823 | \u001b[36mINFO\u001b[0m    | Flow run\u001b[35m 'strange-junglefowl'\u001b[0m - Created task run 'drop_columns-0' for task 'drop_columns'\n"
      ]
     },
     "metadata": {},
     "output_type": "display_data"
    },
    {
     "data": {
      "text/html": [
       "<pre style=\"white-space:pre;overflow-x:auto;line-height:normal;font-family:Menlo,'DejaVu Sans Mono',consolas,'Courier New',monospace\">02:02:42.828 | <span style=\"color: #008080; text-decoration-color: #008080\">INFO</span>    | Flow run<span style=\"color: #800080; text-decoration-color: #800080\"> 'strange-junglefowl'</span> - Executing 'drop_columns-0' immediately...\n",
       "</pre>\n"
      ],
      "text/plain": [
       "02:02:42.828 | \u001b[36mINFO\u001b[0m    | Flow run\u001b[35m 'strange-junglefowl'\u001b[0m - Executing 'drop_columns-0' immediately...\n"
      ]
     },
     "metadata": {},
     "output_type": "display_data"
    },
    {
     "data": {
      "text/html": [
       "<pre style=\"white-space:pre;overflow-x:auto;line-height:normal;font-family:Menlo,'DejaVu Sans Mono',consolas,'Courier New',monospace\">02:02:43.026 | <span style=\"color: #008080; text-decoration-color: #008080\">INFO</span>    | Task run 'drop_columns-0' - Finished in state <span style=\"color: #008000; text-decoration-color: #008000\">Completed</span>()\n",
       "</pre>\n"
      ],
      "text/plain": [
       "02:02:43.026 | \u001b[36mINFO\u001b[0m    | Task run 'drop_columns-0' - Finished in state \u001b[32mCompleted\u001b[0m()\n"
      ]
     },
     "metadata": {},
     "output_type": "display_data"
    },
    {
     "data": {
      "text/html": [
       "<pre style=\"white-space:pre;overflow-x:auto;line-height:normal;font-family:Menlo,'DejaVu Sans Mono',consolas,'Courier New',monospace\">02:02:43.089 | <span style=\"color: #008080; text-decoration-color: #008080\">INFO</span>    | Flow run<span style=\"color: #800080; text-decoration-color: #800080\"> 'strange-junglefowl'</span> - Created task run 'preprocess_text-0' for task 'preprocess_text'\n",
       "</pre>\n"
      ],
      "text/plain": [
       "02:02:43.089 | \u001b[36mINFO\u001b[0m    | Flow run\u001b[35m 'strange-junglefowl'\u001b[0m - Created task run 'preprocess_text-0' for task 'preprocess_text'\n"
      ]
     },
     "metadata": {},
     "output_type": "display_data"
    },
    {
     "data": {
      "text/html": [
       "<pre style=\"white-space:pre;overflow-x:auto;line-height:normal;font-family:Menlo,'DejaVu Sans Mono',consolas,'Courier New',monospace\">02:02:43.093 | <span style=\"color: #008080; text-decoration-color: #008080\">INFO</span>    | Flow run<span style=\"color: #800080; text-decoration-color: #800080\"> 'strange-junglefowl'</span> - Executing 'preprocess_text-0' immediately...\n",
       "</pre>\n"
      ],
      "text/plain": [
       "02:02:43.093 | \u001b[36mINFO\u001b[0m    | Flow run\u001b[35m 'strange-junglefowl'\u001b[0m - Executing 'preprocess_text-0' immediately...\n"
      ]
     },
     "metadata": {},
     "output_type": "display_data"
    },
    {
     "data": {
      "text/html": [
       "<pre style=\"white-space:pre;overflow-x:auto;line-height:normal;font-family:Menlo,'DejaVu Sans Mono',consolas,'Courier New',monospace\">02:02:43.216 | <span style=\"color: #d7d700; text-decoration-color: #d7d700\">WARNING</span> | py.warnings - /tmp/ipykernel_1100/2922993904.py:10: FutureWarning: The default value of regex will change from True to False in a future version.\n",
       "  df['text'] = df['text'].str.replace(r'[^\\w\\s]', '')\n",
       "\n",
       "</pre>\n"
      ],
      "text/plain": [
       "02:02:43.216 | \u001b[38;5;184mWARNING\u001b[0m | py.warnings - /tmp/ipykernel_1100/2922993904.py:10: FutureWarning: The default value of regex will change from True to False in a future version.\n",
       "  df['text'] = df['text'].str.replace(r'[^\\w\\s]', '')\n",
       "\n"
      ]
     },
     "metadata": {},
     "output_type": "display_data"
    },
    {
     "data": {
      "text/html": [
       "<pre style=\"white-space:pre;overflow-x:auto;line-height:normal;font-family:Menlo,'DejaVu Sans Mono',consolas,'Courier New',monospace\">02:02:53.392 | <span style=\"color: #008080; text-decoration-color: #008080\">INFO</span>    | Task run 'preprocess_text-0' - Finished in state <span style=\"color: #008000; text-decoration-color: #008000\">Completed</span>()\n",
       "</pre>\n"
      ],
      "text/plain": [
       "02:02:53.392 | \u001b[36mINFO\u001b[0m    | Task run 'preprocess_text-0' - Finished in state \u001b[32mCompleted\u001b[0m()\n"
      ]
     },
     "metadata": {},
     "output_type": "display_data"
    },
    {
     "data": {
      "text/html": [
       "<pre style=\"white-space:pre;overflow-x:auto;line-height:normal;font-family:Menlo,'DejaVu Sans Mono',consolas,'Courier New',monospace\">02:02:53.470 | <span style=\"color: #008080; text-decoration-color: #008080\">INFO</span>    | Flow run<span style=\"color: #800080; text-decoration-color: #800080\"> 'strange-junglefowl'</span> - Created task run 'save_label_encoder-0' for task 'save_label_encoder'\n",
       "</pre>\n"
      ],
      "text/plain": [
       "02:02:53.470 | \u001b[36mINFO\u001b[0m    | Flow run\u001b[35m 'strange-junglefowl'\u001b[0m - Created task run 'save_label_encoder-0' for task 'save_label_encoder'\n"
      ]
     },
     "metadata": {},
     "output_type": "display_data"
    },
    {
     "data": {
      "text/html": [
       "<pre style=\"white-space:pre;overflow-x:auto;line-height:normal;font-family:Menlo,'DejaVu Sans Mono',consolas,'Courier New',monospace\">02:02:53.475 | <span style=\"color: #008080; text-decoration-color: #008080\">INFO</span>    | Flow run<span style=\"color: #800080; text-decoration-color: #800080\"> 'strange-junglefowl'</span> - Executing 'save_label_encoder-0' immediately...\n",
       "</pre>\n"
      ],
      "text/plain": [
       "02:02:53.475 | \u001b[36mINFO\u001b[0m    | Flow run\u001b[35m 'strange-junglefowl'\u001b[0m - Executing 'save_label_encoder-0' immediately...\n"
      ]
     },
     "metadata": {},
     "output_type": "display_data"
    },
    {
     "data": {
      "text/html": [
       "<pre style=\"white-space:pre;overflow-x:auto;line-height:normal;font-family:Menlo,'DejaVu Sans Mono',consolas,'Courier New',monospace\">02:02:53.774 | <span style=\"color: #008080; text-decoration-color: #008080\">INFO</span>    | Task run 'save_label_encoder-0' - Finished in state <span style=\"color: #008000; text-decoration-color: #008000\">Completed</span>()\n",
       "</pre>\n"
      ],
      "text/plain": [
       "02:02:53.774 | \u001b[36mINFO\u001b[0m    | Task run 'save_label_encoder-0' - Finished in state \u001b[32mCompleted\u001b[0m()\n"
      ]
     },
     "metadata": {},
     "output_type": "display_data"
    },
    {
     "data": {
      "text/html": [
       "<pre style=\"white-space:pre;overflow-x:auto;line-height:normal;font-family:Menlo,'DejaVu Sans Mono',consolas,'Courier New',monospace\">02:02:53.870 | <span style=\"color: #008080; text-decoration-color: #008080\">INFO</span>    | Flow run<span style=\"color: #800080; text-decoration-color: #800080\"> 'strange-junglefowl'</span> - Created task run 'extract_x_y-0' for task 'extract_x_y'\n",
       "</pre>\n"
      ],
      "text/plain": [
       "02:02:53.870 | \u001b[36mINFO\u001b[0m    | Flow run\u001b[35m 'strange-junglefowl'\u001b[0m - Created task run 'extract_x_y-0' for task 'extract_x_y'\n"
      ]
     },
     "metadata": {},
     "output_type": "display_data"
    },
    {
     "data": {
      "text/html": [
       "<pre style=\"white-space:pre;overflow-x:auto;line-height:normal;font-family:Menlo,'DejaVu Sans Mono',consolas,'Courier New',monospace\">02:02:53.878 | <span style=\"color: #008080; text-decoration-color: #008080\">INFO</span>    | Flow run<span style=\"color: #800080; text-decoration-color: #800080\"> 'strange-junglefowl'</span> - Executing 'extract_x_y-0' immediately...\n",
       "</pre>\n"
      ],
      "text/plain": [
       "02:02:53.878 | \u001b[36mINFO\u001b[0m    | Flow run\u001b[35m 'strange-junglefowl'\u001b[0m - Executing 'extract_x_y-0' immediately...\n"
      ]
     },
     "metadata": {},
     "output_type": "display_data"
    },
    {
     "data": {
      "text/html": [
       "<pre style=\"white-space:pre;overflow-x:auto;line-height:normal;font-family:Menlo,'DejaVu Sans Mono',consolas,'Courier New',monospace\">02:02:54.277 | <span style=\"color: #008080; text-decoration-color: #008080\">INFO</span>    | Task run 'extract_x_y-0' - Finished in state <span style=\"color: #008000; text-decoration-color: #008000\">Completed</span>()\n",
       "</pre>\n"
      ],
      "text/plain": [
       "02:02:54.277 | \u001b[36mINFO\u001b[0m    | Task run 'extract_x_y-0' - Finished in state \u001b[32mCompleted\u001b[0m()\n"
      ]
     },
     "metadata": {},
     "output_type": "display_data"
    },
    {
     "data": {
      "text/html": [
       "<pre style=\"white-space:pre;overflow-x:auto;line-height:normal;font-family:Menlo,'DejaVu Sans Mono',consolas,'Courier New',monospace\">02:02:54.537 | <span style=\"color: #008080; text-decoration-color: #008080\">INFO</span>    | Flow run<span style=\"color: #800080; text-decoration-color: #800080\"> 'strange-junglefowl'</span> - Finished in state <span style=\"color: #008000; text-decoration-color: #008000\">Completed</span>()\n",
       "</pre>\n"
      ],
      "text/plain": [
       "02:02:54.537 | \u001b[36mINFO\u001b[0m    | Flow run\u001b[35m 'strange-junglefowl'\u001b[0m - Finished in state \u001b[32mCompleted\u001b[0m()\n"
      ]
     },
     "metadata": {},
     "output_type": "display_data"
    },
    {
     "data": {
      "text/html": [
       "<pre style=\"white-space:pre;overflow-x:auto;line-height:normal;font-family:Menlo,'DejaVu Sans Mono',consolas,'Courier New',monospace\">02:02:55.890 | <span style=\"color: #d7d700; text-decoration-color: #d7d700\">WARNING</span> | py.warnings - /opt/conda/lib/python3.10/site-packages/prefect/tasks.py:270: UserWarning: A task named 'model_training_and_evaluation' and defined at '/tmp/ipykernel_1100/2663536112.py:1' conflicts with another task. Consider specifying a unique `name` parameter in the task definition:\n",
       "\n",
       " `@task(name='my_unique_name', ...)`\n",
       "  warnings.warn(\n",
       "\n",
       "</pre>\n"
      ],
      "text/plain": [
       "02:02:55.890 | \u001b[38;5;184mWARNING\u001b[0m | py.warnings - /opt/conda/lib/python3.10/site-packages/prefect/tasks.py:270: UserWarning: A task named 'model_training_and_evaluation' and defined at '/tmp/ipykernel_1100/2663536112.py:1' conflicts with another task. Consider specifying a unique `name` parameter in the task definition:\n",
       "\n",
       " `@task(name='my_unique_name', ...)`\n",
       "  warnings.warn(\n",
       "\n"
      ]
     },
     "metadata": {},
     "output_type": "display_data"
    },
    {
     "data": {
      "text/html": [
       "<pre style=\"white-space:pre;overflow-x:auto;line-height:normal;font-family:Menlo,'DejaVu Sans Mono',consolas,'Courier New',monospace\">02:02:58.027 | <span style=\"color: #008080; text-decoration-color: #008080\">INFO</span>    | Flow run<span style=\"color: #800080; text-decoration-color: #800080\"> 'glaring-coyote'</span> - Created subflow run<span style=\"color: #800080; text-decoration-color: #800080\"> 'loud-silkworm'</span> for flow<span style=\"color: #800080; text-decoration-color: #800080; font-weight: bold\"> 'model_training_and_evaluation'</span>\n",
       "</pre>\n"
      ],
      "text/plain": [
       "02:02:58.027 | \u001b[36mINFO\u001b[0m    | Flow run\u001b[35m 'glaring-coyote'\u001b[0m - Created subflow run\u001b[35m 'loud-silkworm'\u001b[0m for flow\u001b[1;35m 'model_training_and_evaluation'\u001b[0m\n"
      ]
     },
     "metadata": {},
     "output_type": "display_data"
    },
    {
     "data": {
      "text/html": [
       "<pre style=\"white-space:pre;overflow-x:auto;line-height:normal;font-family:Menlo,'DejaVu Sans Mono',consolas,'Courier New',monospace\">02:02:58.786 | <span style=\"color: #008080; text-decoration-color: #008080\">INFO</span>    | Flow run<span style=\"color: #800080; text-decoration-color: #800080\"> 'loud-silkworm'</span> - Created task run 'model_training-0' for task 'model_training'\n",
       "</pre>\n"
      ],
      "text/plain": [
       "02:02:58.786 | \u001b[36mINFO\u001b[0m    | Flow run\u001b[35m 'loud-silkworm'\u001b[0m - Created task run 'model_training-0' for task 'model_training'\n"
      ]
     },
     "metadata": {},
     "output_type": "display_data"
    },
    {
     "data": {
      "text/html": [
       "<pre style=\"white-space:pre;overflow-x:auto;line-height:normal;font-family:Menlo,'DejaVu Sans Mono',consolas,'Courier New',monospace\">02:02:58.795 | <span style=\"color: #008080; text-decoration-color: #008080\">INFO</span>    | Flow run<span style=\"color: #800080; text-decoration-color: #800080\"> 'loud-silkworm'</span> - Executing 'model_training-0' immediately...\n",
       "</pre>\n"
      ],
      "text/plain": [
       "02:02:58.795 | \u001b[36mINFO\u001b[0m    | Flow run\u001b[35m 'loud-silkworm'\u001b[0m - Executing 'model_training-0' immediately...\n"
      ]
     },
     "metadata": {},
     "output_type": "display_data"
    },
    {
     "data": {
      "text/html": [
       "<pre style=\"white-space:pre;overflow-x:auto;line-height:normal;font-family:Menlo,'DejaVu Sans Mono',consolas,'Courier New',monospace\">02:03:02.990 | <span style=\"color: #008080; text-decoration-color: #008080\">INFO</span>    | Task run 'model_training-0' - Finished in state <span style=\"color: #008000; text-decoration-color: #008000\">Completed</span>()\n",
       "</pre>\n"
      ],
      "text/plain": [
       "02:03:02.990 | \u001b[36mINFO\u001b[0m    | Task run 'model_training-0' - Finished in state \u001b[32mCompleted\u001b[0m()\n"
      ]
     },
     "metadata": {},
     "output_type": "display_data"
    },
    {
     "data": {
      "text/html": [
       "<pre style=\"white-space:pre;overflow-x:auto;line-height:normal;font-family:Menlo,'DejaVu Sans Mono',consolas,'Courier New',monospace\">02:03:03.208 | <span style=\"color: #008080; text-decoration-color: #008080\">INFO</span>    | Flow run<span style=\"color: #800080; text-decoration-color: #800080\"> 'loud-silkworm'</span> - Created task run 'model_predict-0' for task 'model_predict'\n",
       "</pre>\n"
      ],
      "text/plain": [
       "02:03:03.208 | \u001b[36mINFO\u001b[0m    | Flow run\u001b[35m 'loud-silkworm'\u001b[0m - Created task run 'model_predict-0' for task 'model_predict'\n"
      ]
     },
     "metadata": {},
     "output_type": "display_data"
    },
    {
     "data": {
      "text/html": [
       "<pre style=\"white-space:pre;overflow-x:auto;line-height:normal;font-family:Menlo,'DejaVu Sans Mono',consolas,'Courier New',monospace\">02:03:03.216 | <span style=\"color: #008080; text-decoration-color: #008080\">INFO</span>    | Flow run<span style=\"color: #800080; text-decoration-color: #800080\"> 'loud-silkworm'</span> - Executing 'model_predict-0' immediately...\n",
       "</pre>\n"
      ],
      "text/plain": [
       "02:03:03.216 | \u001b[36mINFO\u001b[0m    | Flow run\u001b[35m 'loud-silkworm'\u001b[0m - Executing 'model_predict-0' immediately...\n"
      ]
     },
     "metadata": {},
     "output_type": "display_data"
    },
    {
     "data": {
      "text/html": [
       "<pre style=\"white-space:pre;overflow-x:auto;line-height:normal;font-family:Menlo,'DejaVu Sans Mono',consolas,'Courier New',monospace\">02:03:04.088 | <span style=\"color: #008080; text-decoration-color: #008080\">INFO</span>    | Task run 'model_predict-0' - Finished in state <span style=\"color: #008000; text-decoration-color: #008000\">Completed</span>()\n",
       "</pre>\n"
      ],
      "text/plain": [
       "02:03:04.088 | \u001b[36mINFO\u001b[0m    | Task run 'model_predict-0' - Finished in state \u001b[32mCompleted\u001b[0m()\n"
      ]
     },
     "metadata": {},
     "output_type": "display_data"
    },
    {
     "data": {
      "text/html": [
       "<pre style=\"white-space:pre;overflow-x:auto;line-height:normal;font-family:Menlo,'DejaVu Sans Mono',consolas,'Courier New',monospace\">02:03:04.240 | <span style=\"color: #008080; text-decoration-color: #008080\">INFO</span>    | Flow run<span style=\"color: #800080; text-decoration-color: #800080\"> 'loud-silkworm'</span> - Created task run 'model_evaluation-0' for task 'model_evaluation'\n",
       "</pre>\n"
      ],
      "text/plain": [
       "02:03:04.240 | \u001b[36mINFO\u001b[0m    | Flow run\u001b[35m 'loud-silkworm'\u001b[0m - Created task run 'model_evaluation-0' for task 'model_evaluation'\n"
      ]
     },
     "metadata": {},
     "output_type": "display_data"
    },
    {
     "data": {
      "text/html": [
       "<pre style=\"white-space:pre;overflow-x:auto;line-height:normal;font-family:Menlo,'DejaVu Sans Mono',consolas,'Courier New',monospace\">02:03:04.249 | <span style=\"color: #008080; text-decoration-color: #008080\">INFO</span>    | Flow run<span style=\"color: #800080; text-decoration-color: #800080\"> 'loud-silkworm'</span> - Executing 'model_evaluation-0' immediately...\n",
       "</pre>\n"
      ],
      "text/plain": [
       "02:03:04.249 | \u001b[36mINFO\u001b[0m    | Flow run\u001b[35m 'loud-silkworm'\u001b[0m - Executing 'model_evaluation-0' immediately...\n"
      ]
     },
     "metadata": {},
     "output_type": "display_data"
    },
    {
     "data": {
      "text/html": [
       "<pre style=\"white-space:pre;overflow-x:auto;line-height:normal;font-family:Menlo,'DejaVu Sans Mono',consolas,'Courier New',monospace\">02:03:04.689 | <span style=\"color: #008080; text-decoration-color: #008080\">INFO</span>    | Task run 'model_evaluation-0' - Finished in state <span style=\"color: #008000; text-decoration-color: #008000\">Completed</span>()\n",
       "</pre>\n"
      ],
      "text/plain": [
       "02:03:04.689 | \u001b[36mINFO\u001b[0m    | Task run 'model_evaluation-0' - Finished in state \u001b[32mCompleted\u001b[0m()\n"
      ]
     },
     "metadata": {},
     "output_type": "display_data"
    },
    {
     "data": {
      "text/html": [
       "<pre style=\"white-space:pre;overflow-x:auto;line-height:normal;font-family:Menlo,'DejaVu Sans Mono',consolas,'Courier New',monospace\">02:03:04.963 | <span style=\"color: #008080; text-decoration-color: #008080\">INFO</span>    | Flow run<span style=\"color: #800080; text-decoration-color: #800080\"> 'loud-silkworm'</span> - Finished in state <span style=\"color: #008000; text-decoration-color: #008000\">Completed</span>()\n",
       "</pre>\n"
      ],
      "text/plain": [
       "02:03:04.963 | \u001b[36mINFO\u001b[0m    | Flow run\u001b[35m 'loud-silkworm'\u001b[0m - Finished in state \u001b[32mCompleted\u001b[0m()\n"
      ]
     },
     "metadata": {},
     "output_type": "display_data"
    },
    {
     "name": "stderr",
     "output_type": "stream",
     "text": [
      "Registered model 'email_spam_model' already exists. Creating a new version of this model...\n",
      "2023/03/21 02:03:20 INFO mlflow.tracking._model_registry.client: Waiting up to 300 seconds for model version to finish creation.                     Model name: email_spam_model, version 6\n",
      "Created version '6' of model 'email_spam_model'.\n"
     ]
    },
    {
     "data": {
      "text/html": [
       "<pre style=\"white-space:pre;overflow-x:auto;line-height:normal;font-family:Menlo,'DejaVu Sans Mono',consolas,'Courier New',monospace\">02:03:20.968 | <span style=\"color: #008080; text-decoration-color: #008080\">INFO</span>    | Flow run<span style=\"color: #800080; text-decoration-color: #800080\"> 'glaring-coyote'</span> - Created task run 'Save-0' for task 'Save'\n",
       "</pre>\n"
      ],
      "text/plain": [
       "02:03:20.968 | \u001b[36mINFO\u001b[0m    | Flow run\u001b[35m 'glaring-coyote'\u001b[0m - Created task run 'Save-0' for task 'Save'\n"
      ]
     },
     "metadata": {},
     "output_type": "display_data"
    },
    {
     "data": {
      "text/html": [
       "<pre style=\"white-space:pre;overflow-x:auto;line-height:normal;font-family:Menlo,'DejaVu Sans Mono',consolas,'Courier New',monospace\">02:03:20.975 | <span style=\"color: #008080; text-decoration-color: #008080\">INFO</span>    | Flow run<span style=\"color: #800080; text-decoration-color: #800080\"> 'glaring-coyote'</span> - Executing 'Save-0' immediately...\n",
       "</pre>\n"
      ],
      "text/plain": [
       "02:03:20.975 | \u001b[36mINFO\u001b[0m    | Flow run\u001b[35m 'glaring-coyote'\u001b[0m - Executing 'Save-0' immediately...\n"
      ]
     },
     "metadata": {},
     "output_type": "display_data"
    },
    {
     "data": {
      "text/html": [
       "<pre style=\"white-space:pre;overflow-x:auto;line-height:normal;font-family:Menlo,'DejaVu Sans Mono',consolas,'Courier New',monospace\">02:03:21.750 | <span style=\"color: #008080; text-decoration-color: #008080\">INFO</span>    | Task run 'Save-0' - Finished in state <span style=\"color: #008000; text-decoration-color: #008000\">Completed</span>()\n",
       "</pre>\n"
      ],
      "text/plain": [
       "02:03:21.750 | \u001b[36mINFO\u001b[0m    | Task run 'Save-0' - Finished in state \u001b[32mCompleted\u001b[0m()\n"
      ]
     },
     "metadata": {},
     "output_type": "display_data"
    },
    {
     "data": {
      "text/html": [
       "<pre style=\"white-space:pre;overflow-x:auto;line-height:normal;font-family:Menlo,'DejaVu Sans Mono',consolas,'Courier New',monospace\">02:03:22.531 | <span style=\"color: #008080; text-decoration-color: #008080\">INFO</span>    | Flow run<span style=\"color: #800080; text-decoration-color: #800080\"> 'glaring-coyote'</span> - Finished in state <span style=\"color: #008000; text-decoration-color: #008000\">Completed</span>()\n",
       "</pre>\n"
      ],
      "text/plain": [
       "02:03:22.531 | \u001b[36mINFO\u001b[0m    | Flow run\u001b[35m 'glaring-coyote'\u001b[0m - Finished in state \u001b[32mCompleted\u001b[0m()\n"
      ]
     },
     "metadata": {},
     "output_type": "display_data"
    },
    {
     "data": {
      "text/plain": [
       "{'evaluate': {'accuracy': 0.9429951690821256,\n",
       "  'precision': 0.8979591836734694,\n",
       "  'recall': 0.9010238907849829,\n",
       "  'f1': 0.899488926746167},\n",
       " 'pipeline': Pipeline(steps=[('tfidf',\n",
       "                  TfidfVectorizer(max_features=1000, ngram_range=(1, 2),\n",
       "                                  stop_words='english', use_idf=False)),\n",
       "                 ('clf', MultinomialNB(alpha=0.01))])}"
      ]
     },
     "execution_count": 217,
     "metadata": {},
     "output_type": "execute_result"
    }
   ],
   "source": [
    "# Use different parameters\n",
    "train_model(output, save_model=True , max_features=1000, ngram_range=(1, 2), use_idf=False, analyser='word', stop_words='english')"
   ]
  },
  {
   "cell_type": "code",
   "execution_count": 218,
   "metadata": {},
   "outputs": [
    {
     "data": {
      "text/html": [
       "<pre style=\"white-space:pre;overflow-x:auto;line-height:normal;font-family:Menlo,'DejaVu Sans Mono',consolas,'Courier New',monospace\">02:03:46.446 | <span style=\"color: #008080; text-decoration-color: #008080\">INFO</span>    | prefect.engine - Created flow run<span style=\"color: #800080; text-decoration-color: #800080\"> 'cherubic-macaque'</span> for flow<span style=\"color: #800080; text-decoration-color: #800080; font-weight: bold\"> 'Batch Inference'</span>\n",
       "</pre>\n"
      ],
      "text/plain": [
       "02:03:46.446 | \u001b[36mINFO\u001b[0m    | prefect.engine - Created flow run\u001b[35m 'cherubic-macaque'\u001b[0m for flow\u001b[1;35m 'Batch Inference'\u001b[0m\n"
      ]
     },
     "metadata": {},
     "output_type": "display_data"
    },
    {
     "data": {
      "text/html": [
       "<pre style=\"white-space:pre;overflow-x:auto;line-height:normal;font-family:Menlo,'DejaVu Sans Mono',consolas,'Courier New',monospace\">02:03:46.893 | <span style=\"color: #008080; text-decoration-color: #008080\">INFO</span>    | Flow run<span style=\"color: #800080; text-decoration-color: #800080\"> 'cherubic-macaque'</span> - Created task run 'Load-0' for task 'Load'\n",
       "</pre>\n"
      ],
      "text/plain": [
       "02:03:46.893 | \u001b[36mINFO\u001b[0m    | Flow run\u001b[35m 'cherubic-macaque'\u001b[0m - Created task run 'Load-0' for task 'Load'\n"
      ]
     },
     "metadata": {},
     "output_type": "display_data"
    },
    {
     "data": {
      "text/html": [
       "<pre style=\"white-space:pre;overflow-x:auto;line-height:normal;font-family:Menlo,'DejaVu Sans Mono',consolas,'Courier New',monospace\">02:03:46.897 | <span style=\"color: #008080; text-decoration-color: #008080\">INFO</span>    | Flow run<span style=\"color: #800080; text-decoration-color: #800080\"> 'cherubic-macaque'</span> - Executing 'Load-0' immediately...\n",
       "</pre>\n"
      ],
      "text/plain": [
       "02:03:46.897 | \u001b[36mINFO\u001b[0m    | Flow run\u001b[35m 'cherubic-macaque'\u001b[0m - Executing 'Load-0' immediately...\n"
      ]
     },
     "metadata": {},
     "output_type": "display_data"
    },
    {
     "data": {
      "text/html": [
       "<pre style=\"white-space:pre;overflow-x:auto;line-height:normal;font-family:Menlo,'DejaVu Sans Mono',consolas,'Courier New',monospace\">02:03:47.298 | <span style=\"color: #008080; text-decoration-color: #008080\">INFO</span>    | Task run 'Load-0' - Finished in state <span style=\"color: #008000; text-decoration-color: #008000\">Completed</span>()\n",
       "</pre>\n"
      ],
      "text/plain": [
       "02:03:47.298 | \u001b[36mINFO\u001b[0m    | Task run 'Load-0' - Finished in state \u001b[32mCompleted\u001b[0m()\n"
      ]
     },
     "metadata": {},
     "output_type": "display_data"
    },
    {
     "data": {
      "text/html": [
       "<pre style=\"white-space:pre;overflow-x:auto;line-height:normal;font-family:Menlo,'DejaVu Sans Mono',consolas,'Courier New',monospace\">02:03:47.358 | <span style=\"color: #d7d700; text-decoration-color: #d7d700\">WARNING</span> | py.warnings - /opt/conda/lib/python3.10/site-packages/prefect/tasks.py:270: UserWarning: A task named 'Data processing' and defined at '/tmp/ipykernel_1100/1809663541.py:19' conflicts with another task. Consider specifying a unique `name` parameter in the task definition:\n",
       "\n",
       " `@task(name='my_unique_name', ...)`\n",
       "  warnings.warn(\n",
       "\n",
       "</pre>\n"
      ],
      "text/plain": [
       "02:03:47.358 | \u001b[38;5;184mWARNING\u001b[0m | py.warnings - /opt/conda/lib/python3.10/site-packages/prefect/tasks.py:270: UserWarning: A task named 'Data processing' and defined at '/tmp/ipykernel_1100/1809663541.py:19' conflicts with another task. Consider specifying a unique `name` parameter in the task definition:\n",
       "\n",
       " `@task(name='my_unique_name', ...)`\n",
       "  warnings.warn(\n",
       "\n"
      ]
     },
     "metadata": {},
     "output_type": "display_data"
    },
    {
     "data": {
      "text/html": [
       "<pre style=\"white-space:pre;overflow-x:auto;line-height:normal;font-family:Menlo,'DejaVu Sans Mono',consolas,'Courier New',monospace\">02:03:47.577 | <span style=\"color: #008080; text-decoration-color: #008080\">INFO</span>    | Flow run<span style=\"color: #800080; text-decoration-color: #800080\"> 'cherubic-macaque'</span> - Created subflow run<span style=\"color: #800080; text-decoration-color: #800080\"> 'complex-potoo'</span> for flow<span style=\"color: #800080; text-decoration-color: #800080; font-weight: bold\"> 'Data processing'</span>\n",
       "</pre>\n"
      ],
      "text/plain": [
       "02:03:47.577 | \u001b[36mINFO\u001b[0m    | Flow run\u001b[35m 'cherubic-macaque'\u001b[0m - Created subflow run\u001b[35m 'complex-potoo'\u001b[0m for flow\u001b[1;35m 'Data processing'\u001b[0m\n"
      ]
     },
     "metadata": {},
     "output_type": "display_data"
    },
    {
     "name": "stderr",
     "output_type": "stream",
     "text": [
      "[nltk_data] Downloading package stopwords to /home/jovyan/nltk_data...\n",
      "[nltk_data]   Package stopwords is already up-to-date!\n",
      "[nltk_data] Downloading package wordnet to /home/jovyan/nltk_data...\n",
      "[nltk_data]   Package wordnet is already up-to-date!\n"
     ]
    },
    {
     "data": {
      "text/html": [
       "<pre style=\"white-space:pre;overflow-x:auto;line-height:normal;font-family:Menlo,'DejaVu Sans Mono',consolas,'Courier New',monospace\">02:03:47.962 | <span style=\"color: #008080; text-decoration-color: #008080\">INFO</span>    | Flow run<span style=\"color: #800080; text-decoration-color: #800080\"> 'complex-potoo'</span> - Created task run 'drop_columns-0' for task 'drop_columns'\n",
       "</pre>\n"
      ],
      "text/plain": [
       "02:03:47.962 | \u001b[36mINFO\u001b[0m    | Flow run\u001b[35m 'complex-potoo'\u001b[0m - Created task run 'drop_columns-0' for task 'drop_columns'\n"
      ]
     },
     "metadata": {},
     "output_type": "display_data"
    },
    {
     "data": {
      "text/html": [
       "<pre style=\"white-space:pre;overflow-x:auto;line-height:normal;font-family:Menlo,'DejaVu Sans Mono',consolas,'Courier New',monospace\">02:03:47.969 | <span style=\"color: #008080; text-decoration-color: #008080\">INFO</span>    | Flow run<span style=\"color: #800080; text-decoration-color: #800080\"> 'complex-potoo'</span> - Executing 'drop_columns-0' immediately...\n",
       "</pre>\n"
      ],
      "text/plain": [
       "02:03:47.969 | \u001b[36mINFO\u001b[0m    | Flow run\u001b[35m 'complex-potoo'\u001b[0m - Executing 'drop_columns-0' immediately...\n"
      ]
     },
     "metadata": {},
     "output_type": "display_data"
    },
    {
     "data": {
      "text/html": [
       "<pre style=\"white-space:pre;overflow-x:auto;line-height:normal;font-family:Menlo,'DejaVu Sans Mono',consolas,'Courier New',monospace\">02:03:48.225 | <span style=\"color: #008080; text-decoration-color: #008080\">INFO</span>    | Task run 'drop_columns-0' - Finished in state <span style=\"color: #008000; text-decoration-color: #008000\">Completed</span>()\n",
       "</pre>\n"
      ],
      "text/plain": [
       "02:03:48.225 | \u001b[36mINFO\u001b[0m    | Task run 'drop_columns-0' - Finished in state \u001b[32mCompleted\u001b[0m()\n"
      ]
     },
     "metadata": {},
     "output_type": "display_data"
    },
    {
     "data": {
      "text/html": [
       "<pre style=\"white-space:pre;overflow-x:auto;line-height:normal;font-family:Menlo,'DejaVu Sans Mono',consolas,'Courier New',monospace\">02:03:48.314 | <span style=\"color: #008080; text-decoration-color: #008080\">INFO</span>    | Flow run<span style=\"color: #800080; text-decoration-color: #800080\"> 'complex-potoo'</span> - Created task run 'preprocess_text-0' for task 'preprocess_text'\n",
       "</pre>\n"
      ],
      "text/plain": [
       "02:03:48.314 | \u001b[36mINFO\u001b[0m    | Flow run\u001b[35m 'complex-potoo'\u001b[0m - Created task run 'preprocess_text-0' for task 'preprocess_text'\n"
      ]
     },
     "metadata": {},
     "output_type": "display_data"
    },
    {
     "data": {
      "text/html": [
       "<pre style=\"white-space:pre;overflow-x:auto;line-height:normal;font-family:Menlo,'DejaVu Sans Mono',consolas,'Courier New',monospace\">02:03:48.319 | <span style=\"color: #008080; text-decoration-color: #008080\">INFO</span>    | Flow run<span style=\"color: #800080; text-decoration-color: #800080\"> 'complex-potoo'</span> - Executing 'preprocess_text-0' immediately...\n",
       "</pre>\n"
      ],
      "text/plain": [
       "02:03:48.319 | \u001b[36mINFO\u001b[0m    | Flow run\u001b[35m 'complex-potoo'\u001b[0m - Executing 'preprocess_text-0' immediately...\n"
      ]
     },
     "metadata": {},
     "output_type": "display_data"
    },
    {
     "data": {
      "text/html": [
       "<pre style=\"white-space:pre;overflow-x:auto;line-height:normal;font-family:Menlo,'DejaVu Sans Mono',consolas,'Courier New',monospace\">02:03:48.555 | <span style=\"color: #d7d700; text-decoration-color: #d7d700\">WARNING</span> | py.warnings - /tmp/ipykernel_1100/2922993904.py:10: FutureWarning: The default value of regex will change from True to False in a future version.\n",
       "  df['text'] = df['text'].str.replace(r'[^\\w\\s]', '')\n",
       "\n",
       "</pre>\n"
      ],
      "text/plain": [
       "02:03:48.555 | \u001b[38;5;184mWARNING\u001b[0m | py.warnings - /tmp/ipykernel_1100/2922993904.py:10: FutureWarning: The default value of regex will change from True to False in a future version.\n",
       "  df['text'] = df['text'].str.replace(r'[^\\w\\s]', '')\n",
       "\n"
      ]
     },
     "metadata": {},
     "output_type": "display_data"
    },
    {
     "data": {
      "text/html": [
       "<pre style=\"white-space:pre;overflow-x:auto;line-height:normal;font-family:Menlo,'DejaVu Sans Mono',consolas,'Courier New',monospace\">02:03:59.411 | <span style=\"color: #008080; text-decoration-color: #008080\">INFO</span>    | Task run 'preprocess_text-0' - Finished in state <span style=\"color: #008000; text-decoration-color: #008000\">Completed</span>()\n",
       "</pre>\n"
      ],
      "text/plain": [
       "02:03:59.411 | \u001b[36mINFO\u001b[0m    | Task run 'preprocess_text-0' - Finished in state \u001b[32mCompleted\u001b[0m()\n"
      ]
     },
     "metadata": {},
     "output_type": "display_data"
    },
    {
     "data": {
      "text/html": [
       "<pre style=\"white-space:pre;overflow-x:auto;line-height:normal;font-family:Menlo,'DejaVu Sans Mono',consolas,'Courier New',monospace\">02:03:59.488 | <span style=\"color: #008080; text-decoration-color: #008080\">INFO</span>    | Flow run<span style=\"color: #800080; text-decoration-color: #800080\"> 'complex-potoo'</span> - Created task run 'extract_x_y-0' for task 'extract_x_y'\n",
       "</pre>\n"
      ],
      "text/plain": [
       "02:03:59.488 | \u001b[36mINFO\u001b[0m    | Flow run\u001b[35m 'complex-potoo'\u001b[0m - Created task run 'extract_x_y-0' for task 'extract_x_y'\n"
      ]
     },
     "metadata": {},
     "output_type": "display_data"
    },
    {
     "data": {
      "text/html": [
       "<pre style=\"white-space:pre;overflow-x:auto;line-height:normal;font-family:Menlo,'DejaVu Sans Mono',consolas,'Courier New',monospace\">02:03:59.493 | <span style=\"color: #008080; text-decoration-color: #008080\">INFO</span>    | Flow run<span style=\"color: #800080; text-decoration-color: #800080\"> 'complex-potoo'</span> - Executing 'extract_x_y-0' immediately...\n",
       "</pre>\n"
      ],
      "text/plain": [
       "02:03:59.493 | \u001b[36mINFO\u001b[0m    | Flow run\u001b[35m 'complex-potoo'\u001b[0m - Executing 'extract_x_y-0' immediately...\n"
      ]
     },
     "metadata": {},
     "output_type": "display_data"
    },
    {
     "data": {
      "text/html": [
       "<pre style=\"white-space:pre;overflow-x:auto;line-height:normal;font-family:Menlo,'DejaVu Sans Mono',consolas,'Courier New',monospace\">02:03:59.710 | <span style=\"color: #008080; text-decoration-color: #008080\">INFO</span>    | Task run 'extract_x_y-0' - Finished in state <span style=\"color: #008000; text-decoration-color: #008000\">Completed</span>()\n",
       "</pre>\n"
      ],
      "text/plain": [
       "02:03:59.710 | \u001b[36mINFO\u001b[0m    | Task run 'extract_x_y-0' - Finished in state \u001b[32mCompleted\u001b[0m()\n"
      ]
     },
     "metadata": {},
     "output_type": "display_data"
    },
    {
     "data": {
      "text/html": [
       "<pre style=\"white-space:pre;overflow-x:auto;line-height:normal;font-family:Menlo,'DejaVu Sans Mono',consolas,'Courier New',monospace\">02:03:59.863 | <span style=\"color: #008080; text-decoration-color: #008080\">INFO</span>    | Flow run<span style=\"color: #800080; text-decoration-color: #800080\"> 'complex-potoo'</span> - Finished in state <span style=\"color: #008000; text-decoration-color: #008000\">Completed</span>()\n",
       "</pre>\n"
      ],
      "text/plain": [
       "02:03:59.863 | \u001b[36mINFO\u001b[0m    | Flow run\u001b[35m 'complex-potoo'\u001b[0m - Finished in state \u001b[32mCompleted\u001b[0m()\n"
      ]
     },
     "metadata": {},
     "output_type": "display_data"
    },
    {
     "data": {
      "text/html": [
       "<pre style=\"white-space:pre;overflow-x:auto;line-height:normal;font-family:Menlo,'DejaVu Sans Mono',consolas,'Courier New',monospace\">02:03:59.941 | <span style=\"color: #008080; text-decoration-color: #008080\">INFO</span>    | Flow run<span style=\"color: #800080; text-decoration-color: #800080\"> 'cherubic-macaque'</span> - Created task run 'model_predict-0' for task 'model_predict'\n",
       "</pre>\n"
      ],
      "text/plain": [
       "02:03:59.941 | \u001b[36mINFO\u001b[0m    | Flow run\u001b[35m 'cherubic-macaque'\u001b[0m - Created task run 'model_predict-0' for task 'model_predict'\n"
      ]
     },
     "metadata": {},
     "output_type": "display_data"
    },
    {
     "data": {
      "text/html": [
       "<pre style=\"white-space:pre;overflow-x:auto;line-height:normal;font-family:Menlo,'DejaVu Sans Mono',consolas,'Courier New',monospace\">02:03:59.946 | <span style=\"color: #008080; text-decoration-color: #008080\">INFO</span>    | Flow run<span style=\"color: #800080; text-decoration-color: #800080\"> 'cherubic-macaque'</span> - Executing 'model_predict-0' immediately...\n",
       "</pre>\n"
      ],
      "text/plain": [
       "02:03:59.946 | \u001b[36mINFO\u001b[0m    | Flow run\u001b[35m 'cherubic-macaque'\u001b[0m - Executing 'model_predict-0' immediately...\n"
      ]
     },
     "metadata": {},
     "output_type": "display_data"
    },
    {
     "data": {
      "text/html": [
       "<pre style=\"white-space:pre;overflow-x:auto;line-height:normal;font-family:Menlo,'DejaVu Sans Mono',consolas,'Courier New',monospace\">02:04:01.625 | <span style=\"color: #008080; text-decoration-color: #008080\">INFO</span>    | Task run 'model_predict-0' - Finished in state <span style=\"color: #008000; text-decoration-color: #008000\">Completed</span>()\n",
       "</pre>\n"
      ],
      "text/plain": [
       "02:04:01.625 | \u001b[36mINFO\u001b[0m    | Task run 'model_predict-0' - Finished in state \u001b[32mCompleted\u001b[0m()\n"
      ]
     },
     "metadata": {},
     "output_type": "display_data"
    },
    {
     "data": {
      "text/html": [
       "<pre style=\"white-space:pre;overflow-x:auto;line-height:normal;font-family:Menlo,'DejaVu Sans Mono',consolas,'Courier New',monospace\">02:04:01.698 | <span style=\"color: #008080; text-decoration-color: #008080\">INFO</span>    | Flow run<span style=\"color: #800080; text-decoration-color: #800080\"> 'cherubic-macaque'</span> - Finished in state <span style=\"color: #008000; text-decoration-color: #008000\">Completed</span>()\n",
       "</pre>\n"
      ],
      "text/plain": [
       "02:04:01.698 | \u001b[36mINFO\u001b[0m    | Flow run\u001b[35m 'cherubic-macaque'\u001b[0m - Finished in state \u001b[32mCompleted\u001b[0m()\n"
      ]
     },
     "metadata": {},
     "output_type": "display_data"
    }
   ],
   "source": [
    "\n",
    "inference = batch_inference(output)"
   ]
  },
  {
   "cell_type": "code",
   "execution_count": 219,
   "metadata": {},
   "outputs": [
    {
     "data": {
      "text/plain": [
       "array([0, 0, 1, ..., 0, 0, 1])"
      ]
     },
     "execution_count": 219,
     "metadata": {},
     "output_type": "execute_result"
    }
   ],
   "source": [
    "inference"
   ]
  },
  {
   "attachments": {},
   "cell_type": "markdown",
   "metadata": {},
   "source": [
    "### Classify One text"
   ]
  },
  {
   "cell_type": "code",
   "execution_count": 220,
   "metadata": {},
   "outputs": [],
   "source": [
    "def load_pickle(path: str):\n",
    "    with open(path, 'rb') as f:\n",
    "        loaded_obj = pickle.load(f)\n",
    "    return loaded_obj"
   ]
  },
  {
   "cell_type": "code",
   "execution_count": 224,
   "metadata": {},
   "outputs": [],
   "source": [
    "def classify_email(email_content, model):\n",
    "    email_content = pd.Series(email_content)\n",
    "    payload = pd.DataFrame({'text': email_content})\n",
    "    payload_preprocessed = preprocess_text_base(payload)\n",
    "    le = load_pickle(le_path)\n",
    "    return le.inverse_transform(model.predict(payload_preprocessed))\n",
    "    "
   ]
  },
  {
   "cell_type": "code",
   "execution_count": 225,
   "metadata": {},
   "outputs": [],
   "source": [
    "\n",
    "model = load_pickle(model_path)"
   ]
  },
  {
   "cell_type": "code",
   "execution_count": 226,
   "metadata": {},
   "outputs": [
    {
     "data": {
      "text/html": [
       "<pre style=\"white-space:pre;overflow-x:auto;line-height:normal;font-family:Menlo,'DejaVu Sans Mono',consolas,'Courier New',monospace\">02:05:08.759 | <span style=\"color: #d7d700; text-decoration-color: #d7d700\">WARNING</span> | py.warnings - /tmp/ipykernel_1100/2922993904.py:10: FutureWarning: The default value of regex will change from True to False in a future version.\n",
       "  df['text'] = df['text'].str.replace(r'[^\\w\\s]', '')\n",
       "\n",
       "</pre>\n"
      ],
      "text/plain": [
       "02:05:08.759 | \u001b[38;5;184mWARNING\u001b[0m | py.warnings - /tmp/ipykernel_1100/2922993904.py:10: FutureWarning: The default value of regex will change from True to False in a future version.\n",
       "  df['text'] = df['text'].str.replace(r'[^\\w\\s]', '')\n",
       "\n"
      ]
     },
     "metadata": {},
     "output_type": "display_data"
    },
    {
     "data": {
      "text/plain": [
       "array(['spam'], dtype=object)"
      ]
     },
     "execution_count": 226,
     "metadata": {},
     "output_type": "execute_result"
    }
   ],
   "source": [
    "\n",
    "\n",
    "email_content = \" Hi, I am a student at the University of Washington. I am taking a course on Data Science and I am interested in your job posting. I have attached my resume for your review. I look forward to hearing from you. Best, John\"\n",
    "classify_email(email_content, model)"
   ]
  },
  {
   "cell_type": "code",
   "execution_count": 227,
   "metadata": {},
   "outputs": [
    {
     "data": {
      "text/html": [
       "<pre style=\"white-space:pre;overflow-x:auto;line-height:normal;font-family:Menlo,'DejaVu Sans Mono',consolas,'Courier New',monospace\">02:05:13.667 | <span style=\"color: #d7d700; text-decoration-color: #d7d700\">WARNING</span> | py.warnings - /tmp/ipykernel_1100/2922993904.py:10: FutureWarning: The default value of regex will change from True to False in a future version.\n",
       "  df['text'] = df['text'].str.replace(r'[^\\w\\s]', '')\n",
       "\n",
       "</pre>\n"
      ],
      "text/plain": [
       "02:05:13.667 | \u001b[38;5;184mWARNING\u001b[0m | py.warnings - /tmp/ipykernel_1100/2922993904.py:10: FutureWarning: The default value of regex will change from True to False in a future version.\n",
       "  df['text'] = df['text'].str.replace(r'[^\\w\\s]', '')\n",
       "\n"
      ]
     },
     "metadata": {},
     "output_type": "display_data"
    },
    {
     "data": {
      "text/plain": [
       "array(['spam'], dtype=object)"
      ]
     },
     "execution_count": 227,
     "metadata": {},
     "output_type": "execute_result"
    }
   ],
   "source": [
    "spam_email = \"Dear Sir/Madam, I am writing to you from the United Kingdom. I am a solicitor and I have a client who has a large sum of money to invest. I would like to discuss this with you. Please contact me at your earliest convenience. Best, John\"\n",
    "classify_email(spam_email, model)"
   ]
  },
  {
   "cell_type": "code",
   "execution_count": 228,
   "metadata": {},
   "outputs": [
    {
     "data": {
      "text/html": [
       "<pre style=\"white-space:pre;overflow-x:auto;line-height:normal;font-family:Menlo,'DejaVu Sans Mono',consolas,'Courier New',monospace\">02:05:14.953 | <span style=\"color: #d7d700; text-decoration-color: #d7d700\">WARNING</span> | py.warnings - /tmp/ipykernel_1100/2922993904.py:10: FutureWarning: The default value of regex will change from True to False in a future version.\n",
       "  df['text'] = df['text'].str.replace(r'[^\\w\\s]', '')\n",
       "\n",
       "</pre>\n"
      ],
      "text/plain": [
       "02:05:14.953 | \u001b[38;5;184mWARNING\u001b[0m | py.warnings - /tmp/ipykernel_1100/2922993904.py:10: FutureWarning: The default value of regex will change from True to False in a future version.\n",
       "  df['text'] = df['text'].str.replace(r'[^\\w\\s]', '')\n",
       "\n"
      ]
     },
     "metadata": {},
     "output_type": "display_data"
    },
    {
     "data": {
      "text/plain": [
       "array(['spam'], dtype=object)"
      ]
     },
     "execution_count": 228,
     "metadata": {},
     "output_type": "execute_result"
    }
   ],
   "source": [
    "ham_email = \"Hi, I am a student at the University of Washington. I am taking a course on Data Science and I am interested in your job posting. I have attached my resume for your review. I look forward to hearing from you. Best, John\"\n",
    "classify_email(ham_email, model)"
   ]
  },
  {
   "cell_type": "code",
   "execution_count": 229,
   "metadata": {},
   "outputs": [
    {
     "data": {
      "text/html": [
       "<pre style=\"white-space:pre;overflow-x:auto;line-height:normal;font-family:Menlo,'DejaVu Sans Mono',consolas,'Courier New',monospace\">02:05:16.063 | <span style=\"color: #d7d700; text-decoration-color: #d7d700\">WARNING</span> | py.warnings - /tmp/ipykernel_1100/2922993904.py:10: FutureWarning: The default value of regex will change from True to False in a future version.\n",
       "  df['text'] = df['text'].str.replace(r'[^\\w\\s]', '')\n",
       "\n",
       "</pre>\n"
      ],
      "text/plain": [
       "02:05:16.063 | \u001b[38;5;184mWARNING\u001b[0m | py.warnings - /tmp/ipykernel_1100/2922993904.py:10: FutureWarning: The default value of regex will change from True to False in a future version.\n",
       "  df['text'] = df['text'].str.replace(r'[^\\w\\s]', '')\n",
       "\n"
      ]
     },
     "metadata": {},
     "output_type": "display_data"
    },
    {
     "data": {
      "text/plain": [
       "array(['spam'], dtype=object)"
      ]
     },
     "execution_count": 229,
     "metadata": {},
     "output_type": "execute_result"
    }
   ],
   "source": [
    "non_spam_email = \"Hi, I am a student at the University of Washington. I am taking a course on Data Science and I am interested in your job posting. I have attached my resume for your review. I look forward to hearing from you. Best, John\"\n",
    "classify_email(non_spam_email, model)"
   ]
  },
  {
   "cell_type": "code",
   "execution_count": null,
   "metadata": {},
   "outputs": [],
   "source": [
    "\n"
   ]
  },
  {
   "cell_type": "code",
   "execution_count": null,
   "metadata": {},
   "outputs": [],
   "source": []
  }
 ],
 "metadata": {
  "kernelspec": {
   "display_name": "base",
   "language": "python",
   "name": "python3"
  },
  "language_info": {
   "codemirror_mode": {
    "name": "ipython",
    "version": 3
   },
   "file_extension": ".py",
   "mimetype": "text/x-python",
   "name": "python",
   "nbconvert_exporter": "python",
   "pygments_lexer": "ipython3",
   "version": "3.10.9"
  },
  "orig_nbformat": 4
 },
 "nbformat": 4,
 "nbformat_minor": 2
}
